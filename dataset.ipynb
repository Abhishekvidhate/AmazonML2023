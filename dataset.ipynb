{
 "cells": [
  {
   "cell_type": "code",
   "execution_count": 1,
   "metadata": {},
   "outputs": [
    {
     "name": "stderr",
     "output_type": "stream",
     "text": [
      "c:\\Users\\Pranav\\miniconda3\\envs\\amazonml\\lib\\site-packages\\tqdm\\auto.py:21: TqdmWarning: IProgress not found. Please update jupyter and ipywidgets. See https://ipywidgets.readthedocs.io/en/stable/user_install.html\n",
      "  from .autonotebook import tqdm as notebook_tqdm\n"
     ]
    }
   ],
   "source": [
    "from dataset import TextDataset\n",
    "import matplotlib.pyplot as plt\n",
    "import numpy as np\n",
    "from dataset import EEDataset, TextEEDataset\n",
    "import pandas as pd\n",
    "import torch\n",
    "import torch.nn as nn\n",
    "from model import TransformerEntityRegressor"
   ]
  },
  {
   "cell_type": "code",
   "execution_count": 2,
   "metadata": {},
   "outputs": [],
   "source": [
    "df = pd.read_csv(\"dataset/split_train.csv\")"
   ]
  },
  {
   "cell_type": "code",
   "execution_count": 3,
   "metadata": {},
   "outputs": [],
   "source": [
    "vc = dict(df['PRODUCT_TYPE_ID'].value_counts())\n",
    "id_to_ind = {}\n",
    "default_ind = 0\n",
    "for k, v in vc.items():\n",
    "    if v > 10:\n",
    "        id_to_ind[k] = default_ind\n",
    "        default_ind += 1\n",
    "    else:\n",
    "        id_to_ind[k] = default_ind"
   ]
  },
  {
   "cell_type": "code",
   "execution_count": 4,
   "metadata": {},
   "outputs": [
    {
     "name": "stdout",
     "output_type": "stream",
     "text": [
      "========> LOADING DATASET <========\n",
      "========> LOADING DATASET <========\n"
     ]
    }
   ],
   "source": [
    "train_set = TextEEDataset(path=\"dataset/split_train.csv\", id_to_ind=id_to_ind, default_ind=default_ind)\n",
    "val_set = TextEEDataset(path=\"dataset/split_val.csv\", id_to_ind=id_to_ind, default_ind=default_ind)"
   ]
  },
  {
   "cell_type": "code",
   "execution_count": 5,
   "metadata": {},
   "outputs": [
    {
     "data": {
      "text/plain": [
       "<Axes: >"
      ]
     },
     "execution_count": 5,
     "metadata": {},
     "output_type": "execute_result"
    },
    {
     "data": {
      "image/png": "[encoded data removed]",
      "text/plain": [
       "<Figure size 640x480 with 1 Axes>"
      ]
     },
     "metadata": {},
     "output_type": "display_data"
    }
   ],
   "source": [
    "logs = np.log(train_set.data['PRODUCT_LENGTH'])\n",
    "logs = logs[logs < 12]\n",
    "mm_scaled = (logs - logs.min()) / (logs.max() - logs.min())\n",
    "std_scaled = (logs - logs.mean()) / logs.std()\n",
    "#std_scaled.hist(bins=100)\n",
    "#mm_scaled.hist(bins=100)\n",
    "logs.hist(bins=100)"
   ]
  },
  {
   "cell_type": "code",
   "execution_count": 6,
   "metadata": {},
   "outputs": [
    {
     "data": {
      "text/plain": [
       "Int64Index([    1, 12064,     0,   123,  6104,  2879,  2986,  2916,    99,\n",
       "             6548,\n",
       "            ...\n",
       "            13311, 11544, 11637, 12005, 13142,  7239, 12536,  4114,  3229,\n",
       "             4505],\n",
       "           dtype='int64', length=12907)"
      ]
     },
     "execution_count": 6,
     "metadata": {},
     "output_type": "execute_result"
    }
   ],
   "source": [
    "full_train = pd.read_csv(\"dataset/train.csv\")\n",
    "vc = full_train['PRODUCT_TYPE_ID'].value_counts()\n",
    "u = vc.index\n",
    "u"
   ]
  },
  {
   "cell_type": "code",
   "execution_count": 7,
   "metadata": {},
   "outputs": [],
   "source": [
    "from tqdm.auto import tqdm\n",
    "tqdm.pandas()"
   ]
  },
  {
   "cell_type": "code",
   "execution_count": 70,
   "metadata": {},
   "outputs": [],
   "source": [
    "preds1 = pd.read_csv(\"dataset/e2e_t_3895k_preds_snapped.csv\")\n",
    "preds2 = pd.read_csv(\"dataset/snapped_min.csv\")"
   ]
  },
  {
   "cell_type": "code",
   "execution_count": 48,
   "metadata": {},
   "outputs": [
    {
     "data": {
      "text/plain": [
       "4071.839217142947"
      ]
     },
     "execution_count": 48,
     "metadata": {},
     "output_type": "execute_result"
    }
   ],
   "source": [
    "full_train['PRODUCT_LENGTH'].mean()"
   ]
  },
  {
   "cell_type": "code",
   "execution_count": 71,
   "metadata": {},
   "outputs": [],
   "source": [
    "mins = pd.DataFrame({'len1': preds1['PRODUCT_LENGTH'], 'len2': preds2['PRODUCT_LENGTH']}).min(axis=1)\n",
    "maxs = pd.DataFrame({'len1': preds1['PRODUCT_LENGTH'], 'len2': preds2['PRODUCT_LENGTH']}).max(axis=1)\n",
    "mins_df = pd.DataFrame({'PRODUCT_ID': preds1['PRODUCT_ID'], 'PRODUCT_LENGTH': mins})\n",
    "mins_df.to_csv(\"dataset/snapped_new3min.csv\", index=False)"
   ]
  },
  {
   "cell_type": "code",
   "execution_count": 65,
   "metadata": {},
   "outputs": [],
   "source": [
    "sub = pd.DataFrame({'sub': mins - 10, '0': 0}).max(axis=1)\n",
    "sub_df = pd.DataFrame({'PRODUCT_ID': preds1['PRODUCT_ID'], 'PRODUCT_LENGTH': sub})\n",
    "sub_df.to_csv(\"dataset/snapped_3min_sub10.csv\", index=False)"
   ]
  },
  {
   "cell_type": "code",
   "execution_count": null,
   "metadata": {},
   "outputs": [],
   "source": [
    "closest = [0]*len(mins)\n",
    "for i, (mn, mx) in enumerate(zip(mins, maxs)):\n",
    "    if abs(mn - 4071.84) > abs(mx - 700.84):\n",
    "        closest[i] = mn\n",
    "    else:\n",
    "        closest[i] = mx\n",
    "closest_df = pd.DataFrame({'PRODUCT_ID': preds1['PRODUCT_ID'], 'PRODUCT_LENGTH': closest})\n",
    "closest_df.to_csv(\"dataset/mean_farthest_preds.csv\", index=False)"
   ]
  },
  {
   "cell_type": "code",
   "execution_count": null,
   "metadata": {},
   "outputs": [],
   "source": []
  },
  {
   "cell_type": "code",
   "execution_count": 25,
   "metadata": {},
   "outputs": [
    {
     "data": {
      "text/plain": [
       "0          -15\n",
       "1        -2380\n",
       "2          235\n",
       "3           18\n",
       "4           13\n",
       "          ... \n",
       "734731     165\n",
       "734732     -37\n",
       "734733     -20\n",
       "734734     147\n",
       "734735      74\n",
       "Name: PRODUCT_LENGTH, Length: 734736, dtype: int64"
      ]
     },
     "execution_count": 25,
     "metadata": {},
     "output_type": "execute_result"
    }
   ],
   "source": [
    "(preds1['PRODUCT_LENGTH'] - preds2['PRODUCT_LENGTH'])"
   ]
  },
  {
   "cell_type": "code",
   "execution_count": 17,
   "metadata": {},
   "outputs": [
    {
     "data": {
      "text/plain": [
       "<Axes: >"
      ]
     },
     "execution_count": 17,
     "metadata": {},
     "output_type": "execute_result"
    },
    {
     "data": {
      "image/png": "[encoded data removed]",
      "text/plain": [
       "<Figure size 640x480 with 1 Axes>"
      ]
     },
     "metadata": {},
     "output_type": "display_data"
    }
   ],
   "source": [
    "preds2['PRODUCT_LENGTH'].hist(bins=100)"
   ]
  },
  {
   "cell_type": "code",
   "execution_count": 31,
   "metadata": {},
   "outputs": [],
   "source": [
    "# preds1 = pd.read_csv(\"dataset/e2e_t_3127k_preds.csv\")\n",
    "# preds2 = pd.read_csv(\"dataset/e2e_rbd_769k_preds.csv\")\n",
    "comb = pd.DataFrame({'PRODUCT_ID': preds1['PRODUCT_ID']})\n",
    "comb['PRODUCT_LENGTH'] = preds1['PRODUCT_LENGTH'] * 0.65 + preds2['PRODUCT_LENGTH'] * 0.35\n",
    "comb.to_csv(\"dataset/ens_snapped_t_3127k_rbd_769k_preds.csv\", index=False)"
   ]
  },
  {
   "cell_type": "code",
   "execution_count": 66,
   "metadata": {},
   "outputs": [
    {
     "name": "stderr",
     "output_type": "stream",
     "text": [
      "100%|██████████| 734736/734736 [02:24<00:00, 5074.02it/s]\n"
     ]
    }
   ],
   "source": [
    "preds = pd.read_csv(\"dataset/e2e_t_3895k_preds.csv\")\n",
    "snapped = [0]*len(preds)\n",
    "for i in tqdm(range(len(preds))):\n",
    "    min_ind = abs(preds.iloc[i][1] - u).argmin()\n",
    "    snapped[i] = u[min_ind]"
   ]
  },
  {
   "cell_type": "code",
   "execution_count": 67,
   "metadata": {},
   "outputs": [],
   "source": [
    "preds['PRODUCT_LENGTH'] = snapped\n",
    "preds.to_csv(\"dataset/e2e_t_3895k_preds_snapped.csv\", index=False)"
   ]
  },
  {
   "cell_type": "code",
   "execution_count": 70,
   "metadata": {},
   "outputs": [
    {
     "name": "stderr",
     "output_type": "stream",
     "text": [
      " 12%|█▏        | 89569/734736 [00:14<01:42, 6266.29it/s]\n"
     ]
    },
    {
     "ename": "KeyboardInterrupt",
     "evalue": "",
     "output_type": "error",
     "traceback": [
      "\u001b[1;31m---------------------------------------------------------------------------\u001b[0m",
      "\u001b[1;31mKeyboardInterrupt\u001b[0m                         Traceback (most recent call last)",
      "Cell \u001b[1;32mIn[70], line 4\u001b[0m\n\u001b[0;32m      2\u001b[0m snapped \u001b[39m=\u001b[39m [\u001b[39m0\u001b[39m]\u001b[39m*\u001b[39m\u001b[39mlen\u001b[39m(preds)\n\u001b[0;32m      3\u001b[0m \u001b[39mfor\u001b[39;00m i \u001b[39min\u001b[39;00m tqdm(\u001b[39mrange\u001b[39m(\u001b[39mlen\u001b[39m(preds))):\n\u001b[1;32m----> 4\u001b[0m     snapped[i] \u001b[39m=\u001b[39m u[np\u001b[39m.\u001b[39margmin(np\u001b[39m.\u001b[39mabs(preds[\u001b[39m'\u001b[39;49m\u001b[39mPRODUCT_LENGTH\u001b[39;49m\u001b[39m'\u001b[39;49m]\u001b[39m.\u001b[39;49miloc[i] \u001b[39m-\u001b[39;49m u))]\n\u001b[0;32m      5\u001b[0m snapped\n",
      "File \u001b[1;32mc:\\Users\\Pranav\\miniconda3\\envs\\amazonml\\lib\\site-packages\\pandas\\core\\indexes\\base.py:949\u001b[0m, in \u001b[0;36mIndex.__array_ufunc__\u001b[1;34m(self, ufunc, method, *inputs, **kwargs)\u001b[0m\n\u001b[0;32m    941\u001b[0m \u001b[39m# TODO(2.0) the 'and', 'or' and 'xor' dunder methods are currently set\u001b[39;00m\n\u001b[0;32m    942\u001b[0m \u001b[39m# operations and not logical operations, so don't dispatch\u001b[39;00m\n\u001b[0;32m    943\u001b[0m \u001b[39m# This is deprecated, so this full 'if' clause can be removed once\u001b[39;00m\n\u001b[0;32m    944\u001b[0m \u001b[39m# deprecation is enforced in 2.0\u001b[39;00m\n\u001b[0;32m    945\u001b[0m \u001b[39mif\u001b[39;00m \u001b[39mnot\u001b[39;00m (\n\u001b[0;32m    946\u001b[0m     method \u001b[39m==\u001b[39m \u001b[39m\"\u001b[39m\u001b[39m__call__\u001b[39m\u001b[39m\"\u001b[39m\n\u001b[0;32m    947\u001b[0m     \u001b[39mand\u001b[39;00m ufunc \u001b[39min\u001b[39;00m (np\u001b[39m.\u001b[39mbitwise_and, np\u001b[39m.\u001b[39mbitwise_or, np\u001b[39m.\u001b[39mbitwise_xor)\n\u001b[0;32m    948\u001b[0m ):\n\u001b[1;32m--> 949\u001b[0m     result \u001b[39m=\u001b[39m arraylike\u001b[39m.\u001b[39mmaybe_dispatch_ufunc_to_dunder_op(\n\u001b[0;32m    950\u001b[0m         \u001b[39mself\u001b[39m, ufunc, method, \u001b[39m*\u001b[39minputs, \u001b[39m*\u001b[39m\u001b[39m*\u001b[39mkwargs\n\u001b[0;32m    951\u001b[0m     )\n\u001b[0;32m    952\u001b[0m     \u001b[39mif\u001b[39;00m result \u001b[39mis\u001b[39;00m \u001b[39mnot\u001b[39;00m \u001b[39mNotImplemented\u001b[39m:\n\u001b[0;32m    953\u001b[0m         \u001b[39mreturn\u001b[39;00m result\n",
      "File \u001b[1;32mc:\\Users\\Pranav\\miniconda3\\envs\\amazonml\\lib\\site-packages\\pandas\\_libs\\ops_dispatch.pyx:113\u001b[0m, in \u001b[0;36mpandas._libs.ops_dispatch.maybe_dispatch_ufunc_to_dunder_op\u001b[1;34m()\u001b[0m\n",
      "File \u001b[1;32mc:\\Users\\Pranav\\miniconda3\\envs\\amazonml\\lib\\site-packages\\pandas\\core\\ops\\common.py:72\u001b[0m, in \u001b[0;36m_unpack_zerodim_and_defer.<locals>.new_method\u001b[1;34m(self, other)\u001b[0m\n\u001b[0;32m     68\u001b[0m             \u001b[39mreturn\u001b[39;00m \u001b[39mNotImplemented\u001b[39m\n\u001b[0;32m     70\u001b[0m other \u001b[39m=\u001b[39m item_from_zerodim(other)\n\u001b[1;32m---> 72\u001b[0m \u001b[39mreturn\u001b[39;00m method(\u001b[39mself\u001b[39;49m, other)\n",
      "File \u001b[1;32mc:\\Users\\Pranav\\miniconda3\\envs\\amazonml\\lib\\site-packages\\pandas\\core\\arraylike.py:114\u001b[0m, in \u001b[0;36mOpsMixin.__rsub__\u001b[1;34m(self, other)\u001b[0m\n\u001b[0;32m    112\u001b[0m \u001b[39m@unpack_zerodim_and_defer\u001b[39m(\u001b[39m\"\u001b[39m\u001b[39m__rsub__\u001b[39m\u001b[39m\"\u001b[39m)\n\u001b[0;32m    113\u001b[0m \u001b[39mdef\u001b[39;00m \u001b[39m__rsub__\u001b[39m(\u001b[39mself\u001b[39m, other):\n\u001b[1;32m--> 114\u001b[0m     \u001b[39mreturn\u001b[39;00m \u001b[39mself\u001b[39;49m\u001b[39m.\u001b[39;49m_arith_method(other, roperator\u001b[39m.\u001b[39;49mrsub)\n",
      "File \u001b[1;32mc:\\Users\\Pranav\\miniconda3\\envs\\amazonml\\lib\\site-packages\\pandas\\core\\indexes\\base.py:7007\u001b[0m, in \u001b[0;36mIndex._arith_method\u001b[1;34m(self, other, op)\u001b[0m\n\u001b[0;32m   6997\u001b[0m \u001b[39mif\u001b[39;00m (\n\u001b[0;32m   6998\u001b[0m     \u001b[39misinstance\u001b[39m(other, Index)\n\u001b[0;32m   6999\u001b[0m     \u001b[39mand\u001b[39;00m is_object_dtype(other\u001b[39m.\u001b[39mdtype)\n\u001b[1;32m   (...)\u001b[0m\n\u001b[0;32m   7003\u001b[0m     \u001b[39m# a chance to implement ops before we unwrap them.\u001b[39;00m\n\u001b[0;32m   7004\u001b[0m     \u001b[39m# See https://github.com/pandas-dev/pandas/issues/31109\u001b[39;00m\n\u001b[0;32m   7005\u001b[0m     \u001b[39mreturn\u001b[39;00m \u001b[39mNotImplemented\u001b[39m\n\u001b[1;32m-> 7007\u001b[0m \u001b[39mreturn\u001b[39;00m \u001b[39msuper\u001b[39;49m()\u001b[39m.\u001b[39;49m_arith_method(other, op)\n",
      "File \u001b[1;32mc:\\Users\\Pranav\\miniconda3\\envs\\amazonml\\lib\\site-packages\\pandas\\core\\base.py:1325\u001b[0m, in \u001b[0;36mIndexOpsMixin._arith_method\u001b[1;34m(self, other, op)\u001b[0m\n\u001b[0;32m   1322\u001b[0m rvalues \u001b[39m=\u001b[39m ensure_wrapped_if_datetimelike(rvalues)\n\u001b[0;32m   1324\u001b[0m \u001b[39mwith\u001b[39;00m np\u001b[39m.\u001b[39merrstate(\u001b[39mall\u001b[39m\u001b[39m=\u001b[39m\u001b[39m\"\u001b[39m\u001b[39mignore\u001b[39m\u001b[39m\"\u001b[39m):\n\u001b[1;32m-> 1325\u001b[0m     result \u001b[39m=\u001b[39m ops\u001b[39m.\u001b[39;49marithmetic_op(lvalues, rvalues, op)\n\u001b[0;32m   1327\u001b[0m \u001b[39mreturn\u001b[39;00m \u001b[39mself\u001b[39m\u001b[39m.\u001b[39m_construct_result(result, name\u001b[39m=\u001b[39mres_name)\n",
      "File \u001b[1;32mc:\\Users\\Pranav\\miniconda3\\envs\\amazonml\\lib\\site-packages\\pandas\\core\\ops\\array_ops.py:226\u001b[0m, in \u001b[0;36marithmetic_op\u001b[1;34m(left, right, op)\u001b[0m\n\u001b[0;32m    222\u001b[0m     _bool_arith_check(op, left, right)\n\u001b[0;32m    224\u001b[0m     \u001b[39m# error: Argument 1 to \"_na_arithmetic_op\" has incompatible type\u001b[39;00m\n\u001b[0;32m    225\u001b[0m     \u001b[39m# \"Union[ExtensionArray, ndarray[Any, Any]]\"; expected \"ndarray[Any, Any]\"\u001b[39;00m\n\u001b[1;32m--> 226\u001b[0m     res_values \u001b[39m=\u001b[39m _na_arithmetic_op(left, right, op)  \u001b[39m# type: ignore[arg-type]\u001b[39;00m\n\u001b[0;32m    228\u001b[0m \u001b[39mreturn\u001b[39;00m res_values\n",
      "File \u001b[1;32mc:\\Users\\Pranav\\miniconda3\\envs\\amazonml\\lib\\site-packages\\pandas\\core\\ops\\array_ops.py:165\u001b[0m, in \u001b[0;36m_na_arithmetic_op\u001b[1;34m(left, right, op, is_cmp)\u001b[0m\n\u001b[0;32m    162\u001b[0m     func \u001b[39m=\u001b[39m partial(expressions\u001b[39m.\u001b[39mevaluate, op)\n\u001b[0;32m    164\u001b[0m \u001b[39mtry\u001b[39;00m:\n\u001b[1;32m--> 165\u001b[0m     result \u001b[39m=\u001b[39m func(left, right)\n\u001b[0;32m    166\u001b[0m \u001b[39mexcept\u001b[39;00m \u001b[39mTypeError\u001b[39;00m:\n\u001b[0;32m    167\u001b[0m     \u001b[39mif\u001b[39;00m \u001b[39mnot\u001b[39;00m is_cmp \u001b[39mand\u001b[39;00m (is_object_dtype(left\u001b[39m.\u001b[39mdtype) \u001b[39mor\u001b[39;00m is_object_dtype(right)):\n\u001b[0;32m    168\u001b[0m         \u001b[39m# For object dtype, fallback to a masked operation (only operating\u001b[39;00m\n\u001b[0;32m    169\u001b[0m         \u001b[39m#  on the non-missing values)\u001b[39;00m\n\u001b[0;32m    170\u001b[0m         \u001b[39m# Don't do this for comparisons, as that will handle complex numbers\u001b[39;00m\n\u001b[0;32m    171\u001b[0m         \u001b[39m#  incorrectly, see GH#32047\u001b[39;00m\n",
      "File \u001b[1;32mc:\\Users\\Pranav\\miniconda3\\envs\\amazonml\\lib\\site-packages\\pandas\\core\\computation\\expressions.py:241\u001b[0m, in \u001b[0;36mevaluate\u001b[1;34m(op, a, b, use_numexpr)\u001b[0m\n\u001b[0;32m    238\u001b[0m \u001b[39mif\u001b[39;00m op_str \u001b[39mis\u001b[39;00m \u001b[39mnot\u001b[39;00m \u001b[39mNone\u001b[39;00m:\n\u001b[0;32m    239\u001b[0m     \u001b[39mif\u001b[39;00m use_numexpr:\n\u001b[0;32m    240\u001b[0m         \u001b[39m# error: \"None\" not callable\u001b[39;00m\n\u001b[1;32m--> 241\u001b[0m         \u001b[39mreturn\u001b[39;00m _evaluate(op, op_str, a, b)  \u001b[39m# type: ignore[misc]\u001b[39;00m\n\u001b[0;32m    242\u001b[0m \u001b[39mreturn\u001b[39;00m _evaluate_standard(op, op_str, a, b)\n",
      "File \u001b[1;32mc:\\Users\\Pranav\\miniconda3\\envs\\amazonml\\lib\\site-packages\\pandas\\core\\computation\\expressions.py:129\u001b[0m, in \u001b[0;36m_evaluate_numexpr\u001b[1;34m(op, op_str, a, b)\u001b[0m\n\u001b[0;32m    126\u001b[0m     _store_test_result(result \u001b[39mis\u001b[39;00m \u001b[39mnot\u001b[39;00m \u001b[39mNone\u001b[39;00m)\n\u001b[0;32m    128\u001b[0m \u001b[39mif\u001b[39;00m result \u001b[39mis\u001b[39;00m \u001b[39mNone\u001b[39;00m:\n\u001b[1;32m--> 129\u001b[0m     result \u001b[39m=\u001b[39m _evaluate_standard(op, op_str, a, b)\n\u001b[0;32m    131\u001b[0m \u001b[39mreturn\u001b[39;00m result\n",
      "File \u001b[1;32mc:\\Users\\Pranav\\miniconda3\\envs\\amazonml\\lib\\site-packages\\pandas\\core\\computation\\expressions.py:70\u001b[0m, in \u001b[0;36m_evaluate_standard\u001b[1;34m(op, op_str, a, b)\u001b[0m\n\u001b[0;32m     68\u001b[0m \u001b[39mif\u001b[39;00m _TEST_MODE:\n\u001b[0;32m     69\u001b[0m     _store_test_result(\u001b[39mFalse\u001b[39;00m)\n\u001b[1;32m---> 70\u001b[0m \u001b[39mreturn\u001b[39;00m op(a, b)\n",
      "\u001b[1;31mKeyboardInterrupt\u001b[0m: "
     ]
    }
   ],
   "source": [
    "preds = pd.read_csv(\"dataset/e2e_t_400k_preds.csv\")\n",
    "snapped = preds['PRODUCT_LENGTH'].apply(lambda x: u[abs(x - u).argsort()])"
   ]
  },
  {
   "cell_type": "code",
   "execution_count": 35,
   "metadata": {},
   "outputs": [
    {
     "data": {
      "text/plain": [
       "(0.0, 11.997342436644546, 6.551437560975196, 0.9632225819951948)"
      ]
     },
     "execution_count": 35,
     "metadata": {},
     "output_type": "execute_result"
    }
   ],
   "source": [
    "logs.min(), logs.max(), logs.mean(), logs.std()"
   ]
  },
  {
   "cell_type": "code",
   "execution_count": 24,
   "metadata": {},
   "outputs": [
    {
     "data": {
      "text/html": [
       "<div>\n",
       "<style scoped>\n",
       "    .dataframe tbody tr th:only-of-type {\n",
       "        vertical-align: middle;\n",
       "    }\n",
       "\n",
       "    .dataframe tbody tr th {\n",
       "        vertical-align: top;\n",
       "    }\n",
       "\n",
       "    .dataframe thead th {\n",
       "        text-align: right;\n",
       "    }\n",
       "</style>\n",
       "<table border=\"1\" class=\"dataframe\">\n",
       "  <thead>\n",
       "    <tr style=\"text-align: right;\">\n",
       "      <th></th>\n",
       "      <th>index</th>\n",
       "      <th>PRODUCT_ID</th>\n",
       "      <th>TITLE</th>\n",
       "      <th>BULLET_POINTS</th>\n",
       "      <th>DESCRIPTION</th>\n",
       "      <th>PRODUCT_TYPE_ID</th>\n",
       "      <th>PRODUCT_LENGTH</th>\n",
       "      <th>bullet_ex</th>\n",
       "    </tr>\n",
       "  </thead>\n",
       "  <tbody>\n",
       "    <tr>\n",
       "      <th>0</th>\n",
       "      <td>0</td>\n",
       "      <td>2765088</td>\n",
       "      <td>PRIKNIK Horn Red Electric Air Horn Compressor ...</td>\n",
       "      <td>[Loud Dual Tone Trumpet Horn, Compatible With ...</td>\n",
       "      <td>Specifications: Color: Red, Material: Aluminiu...</td>\n",
       "      <td>7537</td>\n",
       "      <td>748.031495</td>\n",
       "      <td>4</td>\n",
       "    </tr>\n",
       "    <tr>\n",
       "      <th>1</th>\n",
       "      <td>1</td>\n",
       "      <td>1594019</td>\n",
       "      <td>ALISHAH Women's Cotton Ankle Length Leggings C...</td>\n",
       "      <td>[Made By 95%cotton and 5% Lycra which gives yo...</td>\n",
       "      <td>AISHAH Women's Lycra Cotton Ankel Leggings. Br...</td>\n",
       "      <td>2996</td>\n",
       "      <td>787.401574</td>\n",
       "      <td>95</td>\n",
       "    </tr>\n",
       "    <tr>\n",
       "      <th>2</th>\n",
       "      <td>2</td>\n",
       "      <td>833712</td>\n",
       "      <td>La Mure / Valbonnais gps</td>\n",
       "      <td>NaN</td>\n",
       "      <td>NaN</td>\n",
       "      <td>1</td>\n",
       "      <td>433.070000</td>\n",
       "      <td>NaN</td>\n",
       "    </tr>\n",
       "    <tr>\n",
       "      <th>3</th>\n",
       "      <td>3</td>\n",
       "      <td>1991694</td>\n",
       "      <td>Mediterranean diet for beginners: 7Benefits of...</td>\n",
       "      <td>NaN</td>\n",
       "      <td>NaN</td>\n",
       "      <td>32</td>\n",
       "      <td>600.000000</td>\n",
       "      <td>NaN</td>\n",
       "    </tr>\n",
       "    <tr>\n",
       "      <th>4</th>\n",
       "      <td>4</td>\n",
       "      <td>1543564</td>\n",
       "      <td>Kenneth Cole REACTION Men's Crespo Loafer B Sh...</td>\n",
       "      <td>[Burnished metal center bit,Slightly padded Fo...</td>\n",
       "      <td>NaN</td>\n",
       "      <td>3247</td>\n",
       "      <td>500.000000</td>\n",
       "      <td>NaN</td>\n",
       "    </tr>\n",
       "    <tr>\n",
       "      <th>...</th>\n",
       "      <td>...</td>\n",
       "      <td>...</td>\n",
       "      <td>...</td>\n",
       "      <td>...</td>\n",
       "      <td>...</td>\n",
       "      <td>...</td>\n",
       "      <td>...</td>\n",
       "      <td>...</td>\n",
       "    </tr>\n",
       "    <tr>\n",
       "      <th>449935</th>\n",
       "      <td>449935</td>\n",
       "      <td>834241</td>\n",
       "      <td>Organ Recital</td>\n",
       "      <td>NaN</td>\n",
       "      <td>NaN</td>\n",
       "      <td>744</td>\n",
       "      <td>475.000000</td>\n",
       "      <td>NaN</td>\n",
       "    </tr>\n",
       "    <tr>\n",
       "      <th>449936</th>\n",
       "      <td>449936</td>\n",
       "      <td>2780400</td>\n",
       "      <td>SAVEIT Led LCD TV Cover for Sony Bravia 108 cm...</td>\n",
       "      <td>[It comes with 2 layer protection. 1st one, be...</td>\n",
       "      <td>SAVEIT Enterprises offer a range of LED/LCD Wa...</td>\n",
       "      <td>1844</td>\n",
       "      <td>300.000000</td>\n",
       "      <td>2</td>\n",
       "    </tr>\n",
       "    <tr>\n",
       "      <th>449937</th>\n",
       "      <td>449937</td>\n",
       "      <td>2533034</td>\n",
       "      <td>Casual Flip Flop Slipper Slider for Men (numer...</td>\n",
       "      <td>[Closure: Slip On,Lifestyle: Casual,Color: White]</td>\n",
       "      <td>Elevate your style with this comfortable pair ...</td>\n",
       "      <td>3249</td>\n",
       "      <td>1181.102361</td>\n",
       "      <td>NaN</td>\n",
       "    </tr>\n",
       "    <tr>\n",
       "      <th>449938</th>\n",
       "      <td>449938</td>\n",
       "      <td>1500355</td>\n",
       "      <td>OTC Medical Posture Brace with Rigid Stays, Sp...</td>\n",
       "      <td>[Tapered and layered front Panel wrap comforta...</td>\n",
       "      <td>NaN</td>\n",
       "      <td>6448</td>\n",
       "      <td>1900.000000</td>\n",
       "      <td>24</td>\n",
       "    </tr>\n",
       "    <tr>\n",
       "      <th>449939</th>\n",
       "      <td>449939</td>\n",
       "      <td>1987786</td>\n",
       "      <td>Kangroo Sweep Movement Printed Wooden Wall Clo...</td>\n",
       "      <td>[Dial size: 12 inches in diameter,Big, clear r...</td>\n",
       "      <td>Wall Clocks Are Very Attractive In Looks And E...</td>\n",
       "      <td>1574</td>\n",
       "      <td>1200.000000</td>\n",
       "      <td>12</td>\n",
       "    </tr>\n",
       "  </tbody>\n",
       "</table>\n",
       "<p>449940 rows × 8 columns</p>\n",
       "</div>"
      ],
      "text/plain": [
       "         index  PRODUCT_ID                                              TITLE  \\\n",
       "0            0     2765088  PRIKNIK Horn Red Electric Air Horn Compressor ...   \n",
       "1            1     1594019  ALISHAH Women's Cotton Ankle Length Leggings C...   \n",
       "2            2      833712                           La Mure / Valbonnais gps   \n",
       "3            3     1991694  Mediterranean diet for beginners: 7Benefits of...   \n",
       "4            4     1543564  Kenneth Cole REACTION Men's Crespo Loafer B Sh...   \n",
       "...        ...         ...                                                ...   \n",
       "449935  449935      834241                                      Organ Recital   \n",
       "449936  449936     2780400  SAVEIT Led LCD TV Cover for Sony Bravia 108 cm...   \n",
       "449937  449937     2533034  Casual Flip Flop Slipper Slider for Men (numer...   \n",
       "449938  449938     1500355  OTC Medical Posture Brace with Rigid Stays, Sp...   \n",
       "449939  449939     1987786  Kangroo Sweep Movement Printed Wooden Wall Clo...   \n",
       "\n",
       "                                            BULLET_POINTS  \\\n",
       "0       [Loud Dual Tone Trumpet Horn, Compatible With ...   \n",
       "1       [Made By 95%cotton and 5% Lycra which gives yo...   \n",
       "2                                                     NaN   \n",
       "3                                                     NaN   \n",
       "4       [Burnished metal center bit,Slightly padded Fo...   \n",
       "...                                                   ...   \n",
       "449935                                                NaN   \n",
       "449936  [It comes with 2 layer protection. 1st one, be...   \n",
       "449937  [Closure: Slip On,Lifestyle: Casual,Color: White]   \n",
       "449938  [Tapered and layered front Panel wrap comforta...   \n",
       "449939  [Dial size: 12 inches in diameter,Big, clear r...   \n",
       "\n",
       "                                              DESCRIPTION  PRODUCT_TYPE_ID  \\\n",
       "0       Specifications: Color: Red, Material: Aluminiu...             7537   \n",
       "1       AISHAH Women's Lycra Cotton Ankel Leggings. Br...             2996   \n",
       "2                                                     NaN                1   \n",
       "3                                                     NaN               32   \n",
       "4                                                     NaN             3247   \n",
       "...                                                   ...              ...   \n",
       "449935                                                NaN              744   \n",
       "449936  SAVEIT Enterprises offer a range of LED/LCD Wa...             1844   \n",
       "449937  Elevate your style with this comfortable pair ...             3249   \n",
       "449938                                                NaN             6448   \n",
       "449939  Wall Clocks Are Very Attractive In Looks And E...             1574   \n",
       "\n",
       "        PRODUCT_LENGTH bullet_ex  \n",
       "0           748.031495         4  \n",
       "1           787.401574        95  \n",
       "2           433.070000       NaN  \n",
       "3           600.000000       NaN  \n",
       "4           500.000000       NaN  \n",
       "...                ...       ...  \n",
       "449935      475.000000       NaN  \n",
       "449936      300.000000         2  \n",
       "449937     1181.102361       NaN  \n",
       "449938     1900.000000        24  \n",
       "449939     1200.000000        12  \n",
       "\n",
       "[449940 rows x 8 columns]"
      ]
     },
     "execution_count": 24,
     "metadata": {},
     "output_type": "execute_result"
    }
   ],
   "source": [
    "val_set.data['bullet_ex'] = val_set.data['BULLET_POINTS'].str.extract('(\\d+)')\n",
    "val_set.data"
   ]
  },
  {
   "cell_type": "code",
   "execution_count": 5,
   "metadata": {},
   "outputs": [],
   "source": [
    "train_loader = torch.utils.data.DataLoader(train_set, batch_size=4)"
   ]
  },
  {
   "cell_type": "code",
   "execution_count": 6,
   "metadata": {},
   "outputs": [],
   "source": [
    "string, type_id, length = next(iter(train_loader))"
   ]
  },
  {
   "cell_type": "code",
   "execution_count": 7,
   "metadata": {},
   "outputs": [
    {
     "name": "stderr",
     "output_type": "stream",
     "text": [
      "Some weights of the model checkpoint at bert-base-uncased were not used when initializing BertModel: ['cls.seq_relationship.weight', 'cls.predictions.bias', 'cls.predictions.decoder.weight', 'cls.predictions.transform.dense.bias', 'cls.predictions.transform.LayerNorm.weight', 'cls.seq_relationship.bias', 'cls.predictions.transform.LayerNorm.bias', 'cls.predictions.transform.dense.weight']\n",
      "- This IS expected if you are initializing BertModel from the checkpoint of a model trained on another task or with another architecture (e.g. initializing a BertForSequenceClassification model from a BertForPreTraining model).\n",
      "- This IS NOT expected if you are initializing BertModel from the checkpoint of a model that you expect to be exactly identical (initializing a BertForSequenceClassification model from a BertForSequenceClassification model).\n"
     ]
    }
   ],
   "source": [
    "model = TransformerEntityRegressor(\n",
    "    transformer=\"bert-base-uncased\",\n",
    "    embedding_dim=32,\n",
    "    num_embeddings=id_to_ind.__len__(),\n",
    ")"
   ]
  },
  {
   "cell_type": "code",
   "execution_count": 9,
   "metadata": {},
   "outputs": [
    {
     "data": {
      "text/plain": [
       "TransformerEntityRegressor(\n",
       "  (transformer): BertModel(\n",
       "    (embeddings): BertEmbeddings(\n",
       "      (word_embeddings): Embedding(30522, 768, padding_idx=0)\n",
       "      (position_embeddings): Embedding(512, 768)\n",
       "      (token_type_embeddings): Embedding(2, 768)\n",
       "      (LayerNorm): LayerNorm((768,), eps=1e-12, elementwise_affine=True)\n",
       "      (dropout): Dropout(p=0.1, inplace=False)\n",
       "    )\n",
       "    (encoder): BertEncoder(\n",
       "      (layer): ModuleList(\n",
       "        (0-11): 12 x BertLayer(\n",
       "          (attention): BertAttention(\n",
       "            (self): BertSelfAttention(\n",
       "              (query): Linear(in_features=768, out_features=768, bias=True)\n",
       "              (key): Linear(in_features=768, out_features=768, bias=True)\n",
       "              (value): Linear(in_features=768, out_features=768, bias=True)\n",
       "              (dropout): Dropout(p=0.1, inplace=False)\n",
       "            )\n",
       "            (output): BertSelfOutput(\n",
       "              (dense): Linear(in_features=768, out_features=768, bias=True)\n",
       "              (LayerNorm): LayerNorm((768,), eps=1e-12, elementwise_affine=True)\n",
       "              (dropout): Dropout(p=0.1, inplace=False)\n",
       "            )\n",
       "          )\n",
       "          (intermediate): BertIntermediate(\n",
       "            (dense): Linear(in_features=768, out_features=3072, bias=True)\n",
       "            (intermediate_act_fn): GELUActivation()\n",
       "          )\n",
       "          (output): BertOutput(\n",
       "            (dense): Linear(in_features=3072, out_features=768, bias=True)\n",
       "            (LayerNorm): LayerNorm((768,), eps=1e-12, elementwise_affine=True)\n",
       "            (dropout): Dropout(p=0.1, inplace=False)\n",
       "          )\n",
       "        )\n",
       "      )\n",
       "    )\n",
       "    (pooler): BertPooler(\n",
       "      (dense): Linear(in_features=768, out_features=768, bias=True)\n",
       "      (activation): Tanh()\n",
       "    )\n",
       "  )\n",
       "  (embedding): Embedding(12502, 32)\n",
       "  (regressor): Regressor(\n",
       "    (layer_1): Sequential(\n",
       "      (0): Linear(in_features=800, out_features=256, bias=True)\n",
       "    )\n",
       "    (reg): Linear(in_features=256, out_features=1, bias=True)\n",
       "    (relu): ReLU()\n",
       "    (dropout): Dropout(p=0.2, inplace=False)\n",
       "    (batchnorm): BatchNorm1d(256, eps=1e-05, momentum=0.1, affine=True, track_running_stats=True)\n",
       "  )\n",
       ")"
      ]
     },
     "execution_count": 9,
     "metadata": {},
     "output_type": "execute_result"
    }
   ],
   "source": [
    "model.to(\"cuda\")"
   ]
  },
  {
   "cell_type": "code",
   "execution_count": 10,
   "metadata": {},
   "outputs": [
    {
     "data": {
      "text/plain": [
       "tensor([[-0.1241],\n",
       "        [-0.2713],\n",
       "        [-0.4102],\n",
       "        [-0.2930]], device='cuda:0', grad_fn=<AddmmBackward0>)"
      ]
     },
     "execution_count": 10,
     "metadata": {},
     "output_type": "execute_result"
    }
   ],
   "source": [
    "model(string, type_id, 'cuda')"
   ]
  },
  {
   "cell_type": "code",
   "execution_count": 13,
   "metadata": {},
   "outputs": [],
   "source": [
    "import pandas as pd\n",
    "test = pd.read_csv('dataset/test.csv')"
   ]
  },
  {
   "cell_type": "code",
   "execution_count": 18,
   "metadata": {},
   "outputs": [],
   "source": [
    "test_preds = pd.DataFrame({'PRODUCT_ID': test['PRODUCT_ID'], 'PRODUCT_LENGTH': 500})\n",
    "test_preds.to_csv('dataset/test_preds_500.csv', index=False)"
   ]
  },
  {
   "cell_type": "code",
   "execution_count": 24,
   "metadata": {},
   "outputs": [],
   "source": [
    "def transformed_mape(y_true, y_pred):\n",
    "    #y_true = (np.log(y_true) - val_set.mean) / val_set.std\n",
    "    return np.mean(np.abs(y_true - y_pred) / (np.abs(y_true) + 1e-8))"
   ]
  },
  {
   "cell_type": "code",
   "execution_count": null,
   "metadata": {},
   "outputs": [
    {
     "data": {
      "text/plain": [
       "<All keys matched successfully>"
      ]
     },
     "execution_count": 88,
     "metadata": {},
     "output_type": "execute_result"
    }
   ],
   "source": [
    "import torch\n",
    "import torch.nn as nn\n",
    "from tqdm import tqdm\n",
    "from model import EntityEmbedding\n",
    "model = EntityEmbedding(embedding_dim=32, num_embeddings=len(id_to_ind))\n",
    "model.load_state_dict(torch.load('checkpoints/transform/epoch_1.pth.tar')['state_dict'])"
   ]
  },
  {
   "cell_type": "code",
   "execution_count": 89,
   "metadata": {},
   "outputs": [
    {
     "data": {
      "text/plain": [
       "tensor([[0.0011],\n",
       "        [0.0013],\n",
       "        [0.0016],\n",
       "        [0.0011],\n",
       "        [0.0012],\n",
       "        [0.0015]], grad_fn=<AddmmBackward0>)"
      ]
     },
     "execution_count": 89,
     "metadata": {},
     "output_type": "execute_result"
    }
   ],
   "source": [
    "model.eval()\n",
    "model(torch.tensor([1, 34, 455, 299, 0, 12501]))"
   ]
  },
  {
   "cell_type": "code",
   "execution_count": 92,
   "metadata": {},
   "outputs": [
    {
     "ename": "KeyboardInterrupt",
     "evalue": "",
     "output_type": "error",
     "traceback": [
      "\u001b[1;31m---------------------------------------------------------------------------\u001b[0m",
      "\u001b[1;31mKeyboardInterrupt\u001b[0m                         Traceback (most recent call last)",
      "Cell \u001b[1;32mIn[92], line 12\u001b[0m\n\u001b[0;32m     10\u001b[0m         inds[j] \u001b[39m=\u001b[39m default_ind\n\u001b[0;32m     11\u001b[0m x \u001b[39m=\u001b[39m torch\u001b[39m.\u001b[39mtensor(inds)\n\u001b[1;32m---> 12\u001b[0m out \u001b[39m=\u001b[39m model(x)\u001b[39m.\u001b[39msqueeze()\u001b[39m.\u001b[39mdetach()\u001b[39m.\u001b[39mnumpy()\n\u001b[0;32m     13\u001b[0m out \u001b[39m=\u001b[39m (out \u001b[39m*\u001b[39m val_set\u001b[39m.\u001b[39mstd) \u001b[39m+\u001b[39m val_set\u001b[39m.\u001b[39mmean\n\u001b[0;32m     14\u001b[0m y \u001b[39m=\u001b[39m val_set\u001b[39m.\u001b[39mdata[\u001b[39m\"\u001b[39m\u001b[39mPRODUCT_LENGTH\u001b[39m\u001b[39m\"\u001b[39m][i:i\u001b[39m+\u001b[39m\u001b[39m8\u001b[39m]\n",
      "File \u001b[1;32mc:\\Users\\Pranav\\miniconda3\\envs\\amazonml\\lib\\site-packages\\torch\\nn\\modules\\module.py:1501\u001b[0m, in \u001b[0;36mModule._call_impl\u001b[1;34m(self, *args, **kwargs)\u001b[0m\n\u001b[0;32m   1496\u001b[0m \u001b[39m# If we don't have any hooks, we want to skip the rest of the logic in\u001b[39;00m\n\u001b[0;32m   1497\u001b[0m \u001b[39m# this function, and just call forward.\u001b[39;00m\n\u001b[0;32m   1498\u001b[0m \u001b[39mif\u001b[39;00m \u001b[39mnot\u001b[39;00m (\u001b[39mself\u001b[39m\u001b[39m.\u001b[39m_backward_hooks \u001b[39mor\u001b[39;00m \u001b[39mself\u001b[39m\u001b[39m.\u001b[39m_backward_pre_hooks \u001b[39mor\u001b[39;00m \u001b[39mself\u001b[39m\u001b[39m.\u001b[39m_forward_hooks \u001b[39mor\u001b[39;00m \u001b[39mself\u001b[39m\u001b[39m.\u001b[39m_forward_pre_hooks\n\u001b[0;32m   1499\u001b[0m         \u001b[39mor\u001b[39;00m _global_backward_pre_hooks \u001b[39mor\u001b[39;00m _global_backward_hooks\n\u001b[0;32m   1500\u001b[0m         \u001b[39mor\u001b[39;00m _global_forward_hooks \u001b[39mor\u001b[39;00m _global_forward_pre_hooks):\n\u001b[1;32m-> 1501\u001b[0m     \u001b[39mreturn\u001b[39;00m forward_call(\u001b[39m*\u001b[39margs, \u001b[39m*\u001b[39m\u001b[39m*\u001b[39mkwargs)\n\u001b[0;32m   1502\u001b[0m \u001b[39m# Do not call functions when jit is used\u001b[39;00m\n\u001b[0;32m   1503\u001b[0m full_backward_hooks, non_full_backward_hooks \u001b[39m=\u001b[39m [], []\n",
      "File \u001b[1;32mc:\\AmazonML\\model.py:36\u001b[0m, in \u001b[0;36mEntityEmbedding.forward\u001b[1;34m(self, x)\u001b[0m\n\u001b[0;32m     34\u001b[0m \u001b[39mdef\u001b[39;00m \u001b[39mforward\u001b[39m(\u001b[39mself\u001b[39m, x):\n\u001b[0;32m     35\u001b[0m     e \u001b[39m=\u001b[39m \u001b[39mself\u001b[39m\u001b[39m.\u001b[39membedding(x)\n\u001b[1;32m---> 36\u001b[0m     \u001b[39mreturn\u001b[39;00m \u001b[39mself\u001b[39;49m\u001b[39m.\u001b[39;49mregressor(e)\n",
      "File \u001b[1;32mc:\\Users\\Pranav\\miniconda3\\envs\\amazonml\\lib\\site-packages\\torch\\nn\\modules\\module.py:1501\u001b[0m, in \u001b[0;36mModule._call_impl\u001b[1;34m(self, *args, **kwargs)\u001b[0m\n\u001b[0;32m   1496\u001b[0m \u001b[39m# If we don't have any hooks, we want to skip the rest of the logic in\u001b[39;00m\n\u001b[0;32m   1497\u001b[0m \u001b[39m# this function, and just call forward.\u001b[39;00m\n\u001b[0;32m   1498\u001b[0m \u001b[39mif\u001b[39;00m \u001b[39mnot\u001b[39;00m (\u001b[39mself\u001b[39m\u001b[39m.\u001b[39m_backward_hooks \u001b[39mor\u001b[39;00m \u001b[39mself\u001b[39m\u001b[39m.\u001b[39m_backward_pre_hooks \u001b[39mor\u001b[39;00m \u001b[39mself\u001b[39m\u001b[39m.\u001b[39m_forward_hooks \u001b[39mor\u001b[39;00m \u001b[39mself\u001b[39m\u001b[39m.\u001b[39m_forward_pre_hooks\n\u001b[0;32m   1499\u001b[0m         \u001b[39mor\u001b[39;00m _global_backward_pre_hooks \u001b[39mor\u001b[39;00m _global_backward_hooks\n\u001b[0;32m   1500\u001b[0m         \u001b[39mor\u001b[39;00m _global_forward_hooks \u001b[39mor\u001b[39;00m _global_forward_pre_hooks):\n\u001b[1;32m-> 1501\u001b[0m     \u001b[39mreturn\u001b[39;00m forward_call(\u001b[39m*\u001b[39margs, \u001b[39m*\u001b[39m\u001b[39m*\u001b[39mkwargs)\n\u001b[0;32m   1502\u001b[0m \u001b[39m# Do not call functions when jit is used\u001b[39;00m\n\u001b[0;32m   1503\u001b[0m full_backward_hooks, non_full_backward_hooks \u001b[39m=\u001b[39m [], []\n",
      "File \u001b[1;32mc:\\AmazonML\\model.py:23\u001b[0m, in \u001b[0;36mRegressor.forward\u001b[1;34m(self, x)\u001b[0m\n\u001b[0;32m     20\u001b[0m x \u001b[39m=\u001b[39m \u001b[39mself\u001b[39m\u001b[39m.\u001b[39mrelu(x)\n\u001b[0;32m     21\u001b[0m x \u001b[39m=\u001b[39m \u001b[39mself\u001b[39m\u001b[39m.\u001b[39mdropout(x)\n\u001b[1;32m---> 23\u001b[0m \u001b[39mreturn\u001b[39;00m \u001b[39mself\u001b[39;49m\u001b[39m.\u001b[39;49mreg(x)\n",
      "File \u001b[1;32mc:\\Users\\Pranav\\miniconda3\\envs\\amazonml\\lib\\site-packages\\torch\\nn\\modules\\module.py:1501\u001b[0m, in \u001b[0;36mModule._call_impl\u001b[1;34m(self, *args, **kwargs)\u001b[0m\n\u001b[0;32m   1496\u001b[0m \u001b[39m# If we don't have any hooks, we want to skip the rest of the logic in\u001b[39;00m\n\u001b[0;32m   1497\u001b[0m \u001b[39m# this function, and just call forward.\u001b[39;00m\n\u001b[0;32m   1498\u001b[0m \u001b[39mif\u001b[39;00m \u001b[39mnot\u001b[39;00m (\u001b[39mself\u001b[39m\u001b[39m.\u001b[39m_backward_hooks \u001b[39mor\u001b[39;00m \u001b[39mself\u001b[39m\u001b[39m.\u001b[39m_backward_pre_hooks \u001b[39mor\u001b[39;00m \u001b[39mself\u001b[39m\u001b[39m.\u001b[39m_forward_hooks \u001b[39mor\u001b[39;00m \u001b[39mself\u001b[39m\u001b[39m.\u001b[39m_forward_pre_hooks\n\u001b[0;32m   1499\u001b[0m         \u001b[39mor\u001b[39;00m _global_backward_pre_hooks \u001b[39mor\u001b[39;00m _global_backward_hooks\n\u001b[0;32m   1500\u001b[0m         \u001b[39mor\u001b[39;00m _global_forward_hooks \u001b[39mor\u001b[39;00m _global_forward_pre_hooks):\n\u001b[1;32m-> 1501\u001b[0m     \u001b[39mreturn\u001b[39;00m forward_call(\u001b[39m*\u001b[39margs, \u001b[39m*\u001b[39m\u001b[39m*\u001b[39mkwargs)\n\u001b[0;32m   1502\u001b[0m \u001b[39m# Do not call functions when jit is used\u001b[39;00m\n\u001b[0;32m   1503\u001b[0m full_backward_hooks, non_full_backward_hooks \u001b[39m=\u001b[39m [], []\n",
      "File \u001b[1;32mc:\\Users\\Pranav\\miniconda3\\envs\\amazonml\\lib\\site-packages\\torch\\nn\\modules\\linear.py:114\u001b[0m, in \u001b[0;36mLinear.forward\u001b[1;34m(self, input)\u001b[0m\n\u001b[0;32m    113\u001b[0m \u001b[39mdef\u001b[39;00m \u001b[39mforward\u001b[39m(\u001b[39mself\u001b[39m, \u001b[39minput\u001b[39m: Tensor) \u001b[39m-\u001b[39m\u001b[39m>\u001b[39m Tensor:\n\u001b[1;32m--> 114\u001b[0m     \u001b[39mreturn\u001b[39;00m F\u001b[39m.\u001b[39;49mlinear(\u001b[39minput\u001b[39;49m, \u001b[39mself\u001b[39;49m\u001b[39m.\u001b[39;49mweight, \u001b[39mself\u001b[39;49m\u001b[39m.\u001b[39;49mbias)\n",
      "\u001b[1;31mKeyboardInterrupt\u001b[0m: "
     ]
    }
   ],
   "source": [
    "mape = 0\n",
    "total = 0\n",
    "for i in range(0, len(val_set), 8):\n",
    "    x = val_set.data[\"PRODUCT_TYPE_ID\"][i:i+8]\n",
    "    inds = [0]*len(x)\n",
    "    for j, k in enumerate(x):\n",
    "        if k in id_to_ind.keys():\n",
    "            inds[j] = id_to_ind[k]\n",
    "        else:\n",
    "            inds[j] = default_ind\n",
    "    x = torch.tensor(inds)\n",
    "    out = model(x).squeeze().detach().numpy()\n",
    "    out = (out * val_set.std) + val_set.mean\n",
    "    y = val_set.data[\"PRODUCT_LENGTH\"][i:i+8]\n",
    "    total += len(y)\n",
    "    #print(x)\n",
    "    sum = np.sum(np.abs(y - out) / (np.abs(y) + 1e-8))\n",
    "    mape += sum\n",
    " \n",
    "print(out[:10], y[:10])\n",
    "print(mape / total)"
   ]
  },
  {
   "cell_type": "code",
   "execution_count": 30,
   "metadata": {},
   "outputs": [
    {
     "data": {
      "text/plain": [
       "0.946526315722277"
      ]
     },
     "execution_count": 30,
     "metadata": {},
     "output_type": "execute_result"
    }
   ],
   "source": [
    "transformed_mape(val_set.data['PRODUCT_LENGTH'][:1], 40)"
   ]
  },
  {
   "cell_type": "code",
   "execution_count": 46,
   "metadata": {},
   "outputs": [
    {
     "data": {
      "text/plain": [
       "(4164.737850855155, 1465722.4180191627, 1885801400.0, 1.0)"
      ]
     },
     "execution_count": 46,
     "metadata": {},
     "output_type": "execute_result"
    }
   ],
   "source": [
    "df['PRODUCT_LENGTH'].mean(), df['PRODUCT_LENGTH'].std(), df['PRODUCT_LENGTH'].max(), df['PRODUCT_LENGTH'].min()"
   ]
  },
  {
   "cell_type": "code",
   "execution_count": 1,
   "metadata": {},
   "outputs": [],
   "source": [
    "import matplotlib.pyplot as plt\n",
    "import pandas as pd\n",
    "import numpy as np"
   ]
  },
  {
   "cell_type": "code",
   "execution_count": 2,
   "metadata": {},
   "outputs": [
    {
     "data": {
      "text/html": [
       "<div>\n",
       "<style scoped>\n",
       "    .dataframe tbody tr th:only-of-type {\n",
       "        vertical-align: middle;\n",
       "    }\n",
       "\n",
       "    .dataframe tbody tr th {\n",
       "        vertical-align: top;\n",
       "    }\n",
       "\n",
       "    .dataframe thead th {\n",
       "        text-align: right;\n",
       "    }\n",
       "</style>\n",
       "<table border=\"1\" class=\"dataframe\">\n",
       "  <thead>\n",
       "    <tr style=\"text-align: right;\">\n",
       "      <th></th>\n",
       "      <th>PRODUCT_ID</th>\n",
       "      <th>TITLE</th>\n",
       "      <th>BULLET_POINTS</th>\n",
       "      <th>DESCRIPTION</th>\n",
       "      <th>PRODUCT_TYPE_ID</th>\n",
       "      <th>PRODUCT_LENGTH</th>\n",
       "    </tr>\n",
       "  </thead>\n",
       "  <tbody>\n",
       "    <tr>\n",
       "      <th>0</th>\n",
       "      <td>1925202</td>\n",
       "      <td>ArtzFolio Tulip Flowers Blackout Curtain for D...</td>\n",
       "      <td>[LUXURIOUS &amp; APPEALING: Beautiful custom-made ...</td>\n",
       "      <td>NaN</td>\n",
       "      <td>1650</td>\n",
       "      <td>2125.980000</td>\n",
       "    </tr>\n",
       "    <tr>\n",
       "      <th>1</th>\n",
       "      <td>2673191</td>\n",
       "      <td>Marks &amp; Spencer Girls' Pyjama Sets T86_2561C_N...</td>\n",
       "      <td>[Harry Potter Hedwig Pyjamas (6-16 Yrs),100% c...</td>\n",
       "      <td>NaN</td>\n",
       "      <td>2755</td>\n",
       "      <td>393.700000</td>\n",
       "    </tr>\n",
       "    <tr>\n",
       "      <th>2</th>\n",
       "      <td>2765088</td>\n",
       "      <td>PRIKNIK Horn Red Electric Air Horn Compressor ...</td>\n",
       "      <td>[Loud Dual Tone Trumpet Horn, Compatible With ...</td>\n",
       "      <td>Specifications: Color: Red, Material: Aluminiu...</td>\n",
       "      <td>7537</td>\n",
       "      <td>748.031495</td>\n",
       "    </tr>\n",
       "    <tr>\n",
       "      <th>3</th>\n",
       "      <td>1594019</td>\n",
       "      <td>ALISHAH Women's Cotton Ankle Length Leggings C...</td>\n",
       "      <td>[Made By 95%cotton and 5% Lycra which gives yo...</td>\n",
       "      <td>AISHAH Women's Lycra Cotton Ankel Leggings. Br...</td>\n",
       "      <td>2996</td>\n",
       "      <td>787.401574</td>\n",
       "    </tr>\n",
       "    <tr>\n",
       "      <th>4</th>\n",
       "      <td>283658</td>\n",
       "      <td>The United Empire Loyalists: A Chronicle of th...</td>\n",
       "      <td>NaN</td>\n",
       "      <td>NaN</td>\n",
       "      <td>6112</td>\n",
       "      <td>598.424000</td>\n",
       "    </tr>\n",
       "    <tr>\n",
       "      <th>...</th>\n",
       "      <td>...</td>\n",
       "      <td>...</td>\n",
       "      <td>...</td>\n",
       "      <td>...</td>\n",
       "      <td>...</td>\n",
       "      <td>...</td>\n",
       "    </tr>\n",
       "    <tr>\n",
       "      <th>2249693</th>\n",
       "      <td>2422167</td>\n",
       "      <td>Nike Women's As W Ny Df Swsh Hn Kh Bra (CZ7610...</td>\n",
       "      <td>Material : Polyester</td>\n",
       "      <td>NaN</td>\n",
       "      <td>3009</td>\n",
       "      <td>1181.100000</td>\n",
       "    </tr>\n",
       "    <tr>\n",
       "      <th>2249694</th>\n",
       "      <td>2766635</td>\n",
       "      <td>(3PCS) Goose Game Cute Cartoon Enamel Pins, Fu...</td>\n",
       "      <td>[❤ [Inspiration] Inspired by the Untitled Goos...</td>\n",
       "      <td>&lt;p&gt;&lt;b&gt;[Brand]: &lt;/b&gt;XVIEONR&lt;/p&gt; &lt;p&gt;&lt;br&gt;&lt;/p&gt; &lt;p&gt;...</td>\n",
       "      <td>3413</td>\n",
       "      <td>125.984252</td>\n",
       "    </tr>\n",
       "    <tr>\n",
       "      <th>2249695</th>\n",
       "      <td>1987786</td>\n",
       "      <td>Kangroo Sweep Movement Printed Wooden Wall Clo...</td>\n",
       "      <td>[Dial size: 12 inches in diameter,Big, clear r...</td>\n",
       "      <td>Wall Clocks Are Very Attractive In Looks And E...</td>\n",
       "      <td>1574</td>\n",
       "      <td>1200.000000</td>\n",
       "    </tr>\n",
       "    <tr>\n",
       "      <th>2249696</th>\n",
       "      <td>1165754</td>\n",
       "      <td>Electro Voice EKX-BRKT15 | Wall Mount Bracket ...</td>\n",
       "      <td>NaN</td>\n",
       "      <td>NaN</td>\n",
       "      <td>592</td>\n",
       "      <td>2900.000000</td>\n",
       "    </tr>\n",
       "    <tr>\n",
       "      <th>2249697</th>\n",
       "      <td>1072666</td>\n",
       "      <td>Skyjacker C7360SP Component Box For PN[C7360PK...</td>\n",
       "      <td>[Component Box For PN[C7360PK],4 in. Lift,Incl...</td>\n",
       "      <td>Skyjacker C7360SP Component Box For PN[C7360PK...</td>\n",
       "      <td>7367</td>\n",
       "      <td>2000.000000</td>\n",
       "    </tr>\n",
       "  </tbody>\n",
       "</table>\n",
       "<p>2249698 rows × 6 columns</p>\n",
       "</div>"
      ],
      "text/plain": [
       "         PRODUCT_ID                                              TITLE  \\\n",
       "0           1925202  ArtzFolio Tulip Flowers Blackout Curtain for D...   \n",
       "1           2673191  Marks & Spencer Girls' Pyjama Sets T86_2561C_N...   \n",
       "2           2765088  PRIKNIK Horn Red Electric Air Horn Compressor ...   \n",
       "3           1594019  ALISHAH Women's Cotton Ankle Length Leggings C...   \n",
       "4            283658  The United Empire Loyalists: A Chronicle of th...   \n",
       "...             ...                                                ...   \n",
       "2249693     2422167  Nike Women's As W Ny Df Swsh Hn Kh Bra (CZ7610...   \n",
       "2249694     2766635  (3PCS) Goose Game Cute Cartoon Enamel Pins, Fu...   \n",
       "2249695     1987786  Kangroo Sweep Movement Printed Wooden Wall Clo...   \n",
       "2249696     1165754  Electro Voice EKX-BRKT15 | Wall Mount Bracket ...   \n",
       "2249697     1072666  Skyjacker C7360SP Component Box For PN[C7360PK...   \n",
       "\n",
       "                                             BULLET_POINTS  \\\n",
       "0        [LUXURIOUS & APPEALING: Beautiful custom-made ...   \n",
       "1        [Harry Potter Hedwig Pyjamas (6-16 Yrs),100% c...   \n",
       "2        [Loud Dual Tone Trumpet Horn, Compatible With ...   \n",
       "3        [Made By 95%cotton and 5% Lycra which gives yo...   \n",
       "4                                                      NaN   \n",
       "...                                                    ...   \n",
       "2249693                               Material : Polyester   \n",
       "2249694  [❤ [Inspiration] Inspired by the Untitled Goos...   \n",
       "2249695  [Dial size: 12 inches in diameter,Big, clear r...   \n",
       "2249696                                                NaN   \n",
       "2249697  [Component Box For PN[C7360PK],4 in. Lift,Incl...   \n",
       "\n",
       "                                               DESCRIPTION  PRODUCT_TYPE_ID  \\\n",
       "0                                                      NaN             1650   \n",
       "1                                                      NaN             2755   \n",
       "2        Specifications: Color: Red, Material: Aluminiu...             7537   \n",
       "3        AISHAH Women's Lycra Cotton Ankel Leggings. Br...             2996   \n",
       "4                                                      NaN             6112   \n",
       "...                                                    ...              ...   \n",
       "2249693                                                NaN             3009   \n",
       "2249694  <p><b>[Brand]: </b>XVIEONR</p> <p><br></p> <p>...             3413   \n",
       "2249695  Wall Clocks Are Very Attractive In Looks And E...             1574   \n",
       "2249696                                                NaN              592   \n",
       "2249697  Skyjacker C7360SP Component Box For PN[C7360PK...             7367   \n",
       "\n",
       "         PRODUCT_LENGTH  \n",
       "0           2125.980000  \n",
       "1            393.700000  \n",
       "2            748.031495  \n",
       "3            787.401574  \n",
       "4            598.424000  \n",
       "...                 ...  \n",
       "2249693     1181.100000  \n",
       "2249694      125.984252  \n",
       "2249695     1200.000000  \n",
       "2249696     2900.000000  \n",
       "2249697     2000.000000  \n",
       "\n",
       "[2249698 rows x 6 columns]"
      ]
     },
     "execution_count": 2,
     "metadata": {},
     "output_type": "execute_result"
    }
   ],
   "source": [
    "train = pd.read_csv('dataset/train.csv')\n",
    "train"
   ]
  },
  {
   "cell_type": "code",
   "execution_count": 4,
   "metadata": {},
   "outputs": [
    {
     "data": {
      "text/plain": [
       "162754.79141900392"
      ]
     },
     "execution_count": 4,
     "metadata": {},
     "output_type": "execute_result"
    }
   ],
   "source": [
    "np.exp(12)"
   ]
  },
  {
   "cell_type": "code",
   "execution_count": 15,
   "metadata": {},
   "outputs": [
    {
     "data": {
      "text/plain": [
       "Text(0.5, 1.0, 'Normalized lLog product length distribution')"
      ]
     },
     "execution_count": 15,
     "metadata": {},
     "output_type": "execute_result"
    },
    {
     "data": {
      "image/png": "[encoded data removed]",
      "text/plain": [
       "<Figure size 640x480 with 1 Axes>"
      ]
     },
     "metadata": {},
     "output_type": "display_data"
    }
   ],
   "source": [
    "logs = np.log(train['PRODUCT_LENGTH'])\n",
    "normalized_logs = (logs.loc[logs < 12] - 6.5502) / 0.9601\n",
    "plt.hist(normalized_logs, bins=100)\n",
    "plt.xlabel('normalize(log(Product Length))')\n",
    "plt.ylabel('Count')\n",
    "plt.title('Normalized lLog product length distribution')"
   ]
  },
  {
   "cell_type": "code",
   "execution_count": 16,
   "metadata": {},
   "outputs": [
    {
     "data": {
      "text/plain": [
       "600.000000     132095\n",
       "590.551180      80428\n",
       "500.000000      62388\n",
       "393.700787      58178\n",
       "850.000000      45034\n",
       "                ...  \n",
       "81.100000           1\n",
       "6299.212598         1\n",
       "2831.250000         1\n",
       "321.652900          1\n",
       "271.250000          1\n",
       "Name: PRODUCT_LENGTH, Length: 16655, dtype: int64"
      ]
     },
     "execution_count": 16,
     "metadata": {},
     "output_type": "execute_result"
    }
   ],
   "source": [
    "train['PRODUCT_LENGTH'].value_counts()"
   ]
  }
 ],
 "metadata": {
  "kernelspec": {
   "display_name": "amazonml",
   "language": "python",
   "name": "python3"
  },
  "language_info": {
   "codemirror_mode": {
    "name": "ipython",
    "version": 3
   },
   "file_extension": ".py",
   "mimetype": "text/x-python",
   "name": "python",
   "nbconvert_exporter": "python",
   "pygments_lexer": "ipython3",
   "version": "3.10.10"
  },
  "orig_nbformat": 4
 },
 "nbformat": 4,
 "nbformat_minor": 2
}
