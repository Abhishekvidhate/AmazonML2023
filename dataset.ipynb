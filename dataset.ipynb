{
 "cells": [
  {
   "cell_type": "code",
   "execution_count": 1,
   "metadata": {},
   "outputs": [],
   "source": [
    "from dataset import TextDataset\n",
    "from torch.utils.data import DataLoader"
   ]
  },
  {
   "cell_type": "code",
   "execution_count": 2,
   "metadata": {},
   "outputs": [
    {
     "name": "stdout",
     "output_type": "stream",
     "text": [
      "========> LOADING DATASET <========\n"
     ]
    }
   ],
   "source": [
    "dataset = TextDataset(path='dataset/train.csv')"
   ]
  },
  {
   "cell_type": "code",
   "execution_count": 3,
   "metadata": {},
   "outputs": [
    {
     "data": {
      "text/plain": [
       "{'string': 'Title: PRIKNIK Horn Red Electric Air Horn Compressor Interior Dual Tone Trumpet Loud Compatible with SX4, Bullet Points: [Loud Dual Tone Trumpet Horn, Compatible With SX4,Electric Air Horn with Compressor, Compatible With SX4,High Quality, High Intensity Horn Sound, Compatible With SX4,Color: Red, Compatible With SX4,Professional installation required, Compatible With SX4], Description: Specifications: Color: Red, Material: Aluminium, Voltage: 12V, dB: 130 dB (around), Material: Aluminum Pump Head + Steel Pump Body + ABS Shell and Parts DB output: 130db Voltage: 12v Sound Type: Dual Tone Application: 12V Voltage Vehicles With Battery Above 20A Package included: 1 x Dual Tone Air Horn Compatible With SX4',\n",
       " 'type_id': 7537,\n",
       " 'length': 748.0314953}"
      ]
     },
     "execution_count": 3,
     "metadata": {},
     "output_type": "execute_result"
    }
   ],
   "source": [
    "dataset[2]"
   ]
  },
  {
   "cell_type": "code",
   "execution_count": 4,
   "metadata": {},
   "outputs": [],
   "source": [
    "loader = DataLoader(dataset, batch_size=16, shuffle=True)"
   ]
  },
  {
   "cell_type": "code",
   "execution_count": 5,
   "metadata": {},
   "outputs": [
    {
     "data": {
      "text/plain": [
       "{'string': ['Title: Apocalyptic Commentary, Daniel & Revelation, Bullet Points: nan, Description: nan',\n",
       "  'Title: Compatible Case for Samsung Galaxy A6 (2018) SM-A600 TRI-Shield Tough Series Rugged Kickstand Cover with Belt Clip Holster & Lanyard [Shock Resistant] for A6 (CAMO Branches), Bullet Points: [BELT CLIP: 360 Degree Rotating Swivel Holster Clip. Clip to your gym bag, backpack, belt or purse.,Rugged Case with inner TPU & Reinforced Corners Offers Protection From Shock/Impact.,Textured Coating and Grooved Edges Provide Enhanced Tactile Grip. Fingerprint Resistant cover with Anti-Slip Design. Reinforced 4 corner protection for resilience.,Includes Free Bonus Lanyard Strap for safe carrying (detachable). Features Built-In Magnetic Kickstand So You Can Prop Phone Horizontal and Watch Videos Hands-Free. Fold kickstand back into the case when not needed.,Precise Cutouts for your headphone jack, charger, speaker, and mic. ONLY FITS GALAXY A6], Description: Elegantly designed for Samsung Galaxy A6 (2018) SM-A600 ONLY. The Tri-Shield Case combines all the key elements that you desire: military grade drop protection, versatile kickstand, hands-free viewing, enhanced grip, reinforced corners, and one-of-a-kind sleek design. KICKSTAND: Back of the case features a built-in magnetic kickstand so you can prop your phone in landscape mode on a table/desk. This is ideal for watching movies and YouTube videos - also handy for those who use their phone as an alarm clock! MILITARY GRADE PROTECTION: This rugged case is military tested to withstand those accidental drops. The inner layer is composed of flexible TPU rubber material. Protection from accidental tumbles. Reinforced corners will provide shock absorption. The exterior hard shell provides further impact resistance. FUNCTIONALITY: Your phone is fully functional in the case; access to all ports. Choose a design that suits your taste. CARRYING STRAP/LANYARD: This case comes with a detachable lanyard strap - you can attach this strap to any of the four corners. Please NOTE: NO Phone, NO Screen Protector Included with Purchase! NOT fit A6 Plus. US Seller.',\n",
       "  'Title: Lyrics and Love Songs, Bullet Points: nan, Description: nan',\n",
       "  'Title: Change Your Habits: ADHD Style, Bullet Points: nan, Description: nan',\n",
       "  'Title: SAFAVIEH Madison Collection 6\\'7\" x 6\\'7\" Square Beige/Grey MAD440B Modern Boho Abstract Non-Shedding Living Room Bedroom Area Rug, Bullet Points: [[Stain Resistant & Non-Shedding]: Expertly machine-woven from enhanced synthetic durable fibers that are stain resistant and have a virtually non-shedding 0.3-inch thick pile,[Kid and Pet-Friendly]: Safe for everyday indoor high foot traffic and areas more prone to life’s unpredictable messes from kid or pet activity,[Trendy Style]: Boho design beautifully enhances any room of the home, from the living room, dining room, bedroom, entryway, nursery, dorm room, study, home office, or eat-in kitchen,[Easy Maintenance]: Stress-free cleaning includes regular vacuuming and gently blotting out minor stains with a mild detergent or carpet cleaner,[Trusted Brand]: Safavieh has been a trusted brand and leader in home furnishings for over 100 years, using their specialty and expertise in crafting the trendiest and highest quality designs and selection of colors; Begin your rug search with Safavieh and explore over 100,000 products today], Description: nan',\n",
       "  \"Title: Calvin Klein Men's Underwear Ultra Soft Modal Boxer Briefs White XL, Bullet Points: [No pill fabrication,Ultra soft modal stretch fabrication for exceptional comfort and luxurious hand feel,Boxer brief silhouette has an extended leg length providing a close fit for a body-defining silhouette.,Tapered and contour pouch for supportive lift,Updated fit for a better support and ride-up control on legs], Description: nan\",\n",
       "  'Title: Wingspan: A Dedalus Sampler, Bullet Points: nan, Description: nan',\n",
       "  \"Title: Riders by Lee Indigo Women's Midrise Bootcut Jean, Black, 14 REg, Bullet Points: [Regular fit,Fabric moves with you,Premium stretch denim,Midrise,Straight leg,Special Size Type: Standard], Description: nan\",\n",
       "  'Title: Mom and Me: An Informative Memoir of Parental Caregiving, Bullet Points: nan, Description: nan',\n",
       "  'Title: Beebay Check Knitted Combined Dress Maroon, Bullet Points: [Care Instructions: Machine Wash As Per Tag,Fabric : Upper: 100% Cotton,Lower: 97% Polyester,3% Spandex,Brand: Beebay,Occasion: Casual | Daily, Size: 0 Months to 8 Years,Dresses for girls], Description: nan',\n",
       "  'Title: OFFCURVE Key Fob Cover for Dodge, Key Case for Dodge Challenger Charger Dart Journey Durango Caravan RAM Grand Chrysler 200 300 Remote Smart Key Car Accessories (3 4 5-Button, White), Bullet Points: [🚗Fits Model🚗 The car key fob cover is compatible with Dodge Charger Challenger Journey Dart Fiat Durango Grand Caravan RAM Grand Chrysler 200 300 Cherokee Renegade keyless entry remote control 3/4/5 buttons smart key,🚗Attention Please🚗 Make sure that you order a right cover, please DOUBLE CHECK your key fob with the pictures at left before you place the order. (NOTE: The product not included the key),🚗Premium Material🚗 This key fob case is made of high-quality TPU, soft to touch, comfortable to handle, and durable to use. Designed with silver edges, the car key protector makes your key fob looking stylish and pretty,🚗360 Degree Protection🚗 The key holder provides full protection for your expensive key fob. There is a comprehensive protection for preventing your keys from falling, scratches, dust, and water etc., keeping your car fob safe and new,🚗OFFCURVE-Better After-Sales🚗 We are committed to providing customers with high-quality service. For any problem, please contact our customer service team, we will give you 100% satisfied service], Description: <b>The Car Key Fob Shell is Compatible with Those Dodge Key Fob Models: <b><br>Cherokee 2014-2021<br>Grand Cherokee 2014-2021<br>Compass 2017-2021<br>Challenger 2015-2021<br>Charger 2011-2021<br>Dart 2014-2016<br>Durango 2014-2021<br>',\n",
       "  \"Title: Valentine Chocolate Gift for Wife, BOGATCHI, Valentine's Day Gift Divine Hearts 144 g, Bullet Points: [Bogatchi LOVE SPECIAL - COLORFUL Chocolate HEARTS made up of white chocolate,UNIQUE GIFT for your Love on SPECIAL OCCASION,Collection of DELICATELY Handcrafted Chocolates by Expert Chocolatiers - Making Bogatchi PREMIUM because of unique AROMA, TASTE and TEXTURE of its CHOCOLATES,100% Vegetarian product, FSSAI Certified and LAB Tested,Bogatchi Chocolates are shipped in Thermacol Insulated Box with ICE PACKS inside to maintain ambient temperature during transit to ensure BEST CHOCOLATY EXPERIENCE for its customers. Bogatchi Chocolates are FSSAI certified and Lab tested for its PREMIUM QUALITY and are TRUSTED by people across the WORLD], Description: nan\",\n",
       "  'Title: LMG Lifestyle Kids Girls Floral Printed Sandals (1.5 Years To 9 Years), Bullet Points: [Led Sandals for Girls,Comfortable & Durable,OCCASION TYPE:PARTY,CASUAL,WEDDING,Durable Soft Leather High Quality, Fashionable & Comfortable high heels.; Strap Type: Ankle Strap,Girls Party Wear Sandals], Description: LMG Lifestyle Party Wear Sandals for Girls (2 Years To 9 Years) Warm and cozy lining keeps your feet to be hugged and comfortable for all day. Perfect match for your various shirt, is fashion and charming. It is flexible and anti-slip out sole, perfect for daily wear and fit different occasions, such as party, vocation, dating, daily and so on. 6 Colors: Pink, BabyPink, Black, White. Upper Material: Patent Leather Sole Material: TPR Toe Shape: Round Toe Heel Shape: Flat Style: Fashion Gender: Girls Pattern: Solid Season: Autumn, winter Occasion: Party, Outdoor, Indoor, School, Office, Daily Life, Camping, etc.. Package Content: 1 Pair x Girls Ballerinas 12 Sizes Available: 7C, 8C, 9C, 10C, 11C, 12C, 13C, 1, 2, 3, 4, 5 ( 2 Years to 9 Years old Kids ) Size: Compare the detail sizes with yours, when you buy, please make sure you choose correct size. If your feet are a little fat and wide, please choose larger size ! thanks!',\n",
       "  'Title: Applied Statistics: A First Course in Inference, Bullet Points: nan, Description: nan',\n",
       "  'Title: Portfolio Canvas Décor Monterey Bay Whales by Geoff Allen Wrapped Canvas Wall Art, 20x20, Bullet Points: [Title: Monterey Bay whales Size: 20x20 artist: Geoff Allen,High Quality giclee printed Reproduction,Comes Stretched on Solid wooden frame, ready to hang,Hangs flush to wall], Description: nan',\n",
       "  \"Title: Raymond Men's Slim Shirt (RCSQ01240-B8_Blue 44), Bullet Points: THIN COLLARS WITH NO TOP STITCH, Description: nan\"],\n",
       " 'type_id': tensor([  139,  2208,   114,    87,  8501,  2884,   114,  2988,    85,  2986,\n",
       "         10350,     0,     0,  6320,  6548,  2851]),\n",
       " 'length': tensor([ 669.2900,  590.0000,  614.1720,  850.0000, 8040.0000,  900.0000,\n",
       "          551.1800,  500.0000,  600.0000, 1496.0600,  240.0000,  629.9200,\n",
       "          787.4016,  850.0000, 2000.0000, 1456.6900], dtype=torch.float64)}"
      ]
     },
     "execution_count": 5,
     "metadata": {},
     "output_type": "execute_result"
    }
   ],
   "source": [
    "batch = next(iter(loader))\n",
    "batch"
   ]
  },
  {
   "cell_type": "code",
   "execution_count": null,
   "metadata": {},
   "outputs": [],
   "source": []
  },
  {
   "cell_type": "code",
   "execution_count": 10,
   "metadata": {},
   "outputs": [
    {
     "data": {
      "text/plain": [
       "dict_keys(['title', 'id', 'type_id', 'length'])"
      ]
     },
     "execution_count": 10,
     "metadata": {},
     "output_type": "execute_result"
    }
   ],
   "source": [
    "batch.keys()"
   ]
  },
  {
   "cell_type": "code",
   "execution_count": 8,
   "metadata": {},
   "outputs": [],
   "source": [
    "import pandas as pd"
   ]
  },
  {
   "cell_type": "code",
   "execution_count": 9,
   "metadata": {},
   "outputs": [],
   "source": [
    "df = pd.read_csv('dataset/train.csv')"
   ]
  },
  {
   "cell_type": "code",
   "execution_count": 14,
   "metadata": {},
   "outputs": [],
   "source": [
    "product_id, title, bullet_points, description, type_id, length = df.iloc[3]"
   ]
  },
  {
   "cell_type": "code",
   "execution_count": 15,
   "metadata": {},
   "outputs": [
    {
     "data": {
      "text/plain": [
       "(1594019,\n",
       " \"ALISHAH Women's Cotton Ankle Length Leggings Combo of 2, Plus 12 Colors_L\",\n",
       " '[Made By 95%cotton and 5% Lycra which gives you 4 ways stretchable comfort, GSM 180 to 190,Come with Elasticized Waist Band, Slim Fit,Bubble free fabric and High quality steaching, Bio Wash,Skin-friendly fabric,ANKLE LENGTH LEGGINGS PACK OF 2]',\n",
       " \"AISHAH Women's Lycra Cotton Ankel Leggings. Brand: ALISHAH Length: Ankel Length Leggings. Size Chart Medium: 28 - 30 inch Large: 30 - 32 inch X-Large: 32 - 34 inch 2X-Large: 34 - 38 inch The color fade will not be there in washing. This cotton stretch leggings is designed to provide absolute comfort and body fit. Pair it with short or long kurta for modern look. High on style, fit and finish, this leggings is sure to lend you a sophisticated look. Please wash the dark colors separately in order to improve the product life. Disclaimer: Product color may slightly vary due to photographic lighting sources or your monitor settings. Please order according to your waist size mentioned in size chart\",\n",
       " 2996,\n",
       " 787.401574)"
      ]
     },
     "execution_count": 15,
     "metadata": {},
     "output_type": "execute_result"
    }
   ],
   "source": [
    "product_id, title, bullet_points, description, type_id, length"
   ]
  },
  {
   "cell_type": "code",
   "execution_count": 10,
   "metadata": {},
   "outputs": [
    {
     "data": {
      "text/plain": [
       "2249698"
      ]
     },
     "execution_count": 10,
     "metadata": {},
     "output_type": "execute_result"
    }
   ],
   "source": [
    "len(df)"
   ]
  },
  {
   "cell_type": "code",
   "execution_count": 11,
   "metadata": {},
   "outputs": [],
   "source": [
    "train = df.sample(frac=0.8)\n",
    "test = df.drop(train.index)\n",
    "train.to_csv('dataset/split_train.csv', index=False)\n",
    "test.to_csv('dataset/split_test.csv', index=False)"
   ]
  },
  {
   "cell_type": "code",
   "execution_count": 12,
   "metadata": {},
   "outputs": [
    {
     "name": "stderr",
     "output_type": "stream",
     "text": [
      "c:\\Users\\Pranav\\miniconda3\\envs\\amazonml\\lib\\site-packages\\tqdm\\auto.py:21: TqdmWarning: IProgress not found. Please update jupyter and ipywidgets. See https://ipywidgets.readthedocs.io/en/stable/user_install.html\n",
      "  from .autonotebook import tqdm as notebook_tqdm\n",
      "Downloading (…)solve/main/vocab.txt: 100%|██████████| 213k/213k [00:00<00:00, 3.81MB/s]\n",
      "c:\\Users\\Pranav\\miniconda3\\envs\\amazonml\\lib\\site-packages\\huggingface_hub\\file_download.py:133: UserWarning: `huggingface_hub` cache-system uses symlinks by default to efficiently store duplicated files but your machine does not support them in C:\\Users\\Pranav\\.cache\\huggingface\\hub. Caching files will still work but in a degraded version that might require more space on your disk. This warning can be disabled by setting the `HF_HUB_DISABLE_SYMLINKS_WARNING` environment variable. For more details, see https://huggingface.co/docs/huggingface_hub/how-to-cache#limitations.\n",
      "To support symlinks on Windows, you either need to activate Developer Mode or to run Python as an administrator. In order to see activate developer mode, see this article: https://docs.microsoft.com/en-us/windows/apps/get-started/enable-your-device-for-development\n",
      "  warnings.warn(message)\n",
      "Downloading (…)okenizer_config.json: 100%|██████████| 29.0/29.0 [00:00<00:00, 29.0kB/s]\n",
      "Downloading (…)lve/main/config.json: 100%|██████████| 570/570 [00:00<00:00, 570kB/s]\n",
      "Downloading pytorch_model.bin: 100%|██████████| 436M/436M [00:08<00:00, 50.8MB/s] \n",
      "Some weights of the model checkpoint at bert-base-cased were not used when initializing BertModel: ['cls.seq_relationship.bias', 'cls.predictions.decoder.weight', 'cls.predictions.transform.LayerNorm.bias', 'cls.predictions.transform.dense.weight', 'cls.predictions.transform.dense.bias', 'cls.predictions.bias', 'cls.seq_relationship.weight', 'cls.predictions.transform.LayerNorm.weight']\n",
      "- This IS expected if you are initializing BertModel from the checkpoint of a model trained on another task or with another architecture (e.g. initializing a BertForSequenceClassification model from a BertForPreTraining model).\n",
      "- This IS NOT expected if you are initializing BertModel from the checkpoint of a model that you expect to be exactly identical (initializing a BertForSequenceClassification model from a BertForSequenceClassification model).\n"
     ]
    }
   ],
   "source": [
    "from transformers import BertTokenizer, BertModel\n",
    "tokenizer = BertTokenizer.from_pretrained('bert-base-cased')\n",
    "model = BertModel.from_pretrained('bert-base-cased')"
   ]
  },
  {
   "cell_type": "code",
   "execution_count": 15,
   "metadata": {},
   "outputs": [],
   "source": [
    "inp = tokenizer(\n",
    "    \"Title: This is a title, Bullet Points: This is a bullet point, Description: This is a description\",\n",
    "    return_tensors=\"pt\",\n",
    "    padding=\"max_length\",\n",
    "    truncation=True,\n",
    ")\n",
    "out = model(**inp)"
   ]
  },
  {
   "cell_type": "code",
   "execution_count": 17,
   "metadata": {},
   "outputs": [
    {
     "data": {
      "text/plain": [
       "torch.Size([1, 512, 768])"
      ]
     },
     "execution_count": 17,
     "metadata": {},
     "output_type": "execute_result"
    }
   ],
   "source": [
    "out.last_hidden_state.shape"
   ]
  },
  {
   "cell_type": "code",
   "execution_count": 18,
   "metadata": {},
   "outputs": [],
   "source": [
    "import numpy as np"
   ]
  },
  {
   "cell_type": "code",
   "execution_count": 20,
   "metadata": {},
   "outputs": [],
   "source": [
    "e = np.load('data/bert_base_uncased_train_embeddings.npy')"
   ]
  },
  {
   "cell_type": "code",
   "execution_count": 28,
   "metadata": {},
   "outputs": [
    {
     "data": {
      "text/plain": [
       "array([-5.84851325e-01,  2.69485652e-01, -3.48566562e-01, -2.84460392e-02,\n",
       "       -2.89732695e-01, -5.74535951e-02,  2.87246287e-01,  2.18627602e-01,\n",
       "       -5.08042276e-01, -3.07704628e-01, -6.18308149e-02,  9.40529481e-02,\n",
       "       -1.86465122e-02,  2.61477470e-01,  3.22088122e-01,  2.78569818e-01,\n",
       "       -2.66845375e-01,  1.51833102e-01,  2.78792918e-01, -2.91695327e-01,\n",
       "       -6.69493675e-02, -3.38568658e-01, -1.10663310e-01, -3.61440837e-01,\n",
       "       -1.41224384e-01,  3.23496610e-02, -2.16252953e-01, -1.11684971e-01,\n",
       "       -3.58390242e-01,  2.25115139e-02, -3.46034467e-01,  2.65614130e-02,\n",
       "       -2.33613282e-01, -9.20312330e-02,  6.67938590e-01,  2.63723671e-01,\n",
       "        4.93110530e-02,  1.03723422e-01,  3.89308244e-01,  2.34346434e-01,\n",
       "        1.86556801e-01,  1.16017357e-01,  1.87476322e-01, -6.79863095e-02,\n",
       "       -2.35508308e-01, -5.75801060e-02, -3.08353662e+00,  2.81180471e-01,\n",
       "       -6.39680982e-01, -1.69665083e-01,  3.59200001e-01, -5.08780003e-01,\n",
       "        4.05128181e-01,  3.38106811e-01, -1.94856897e-03,  5.03083885e-01,\n",
       "       -7.59945989e-01,  1.31019995e-01,  4.03434783e-01,  3.71172398e-01,\n",
       "       -2.68373102e-01,  4.30773228e-01,  2.94373304e-01,  4.65513766e-01,\n",
       "       -6.05465136e-02,  6.43962741e-01, -3.45197678e-01,  4.71552998e-01,\n",
       "       -8.89684334e-02,  2.50382662e-01, -6.30464673e-01, -2.09634438e-01,\n",
       "        6.82106972e-01,  3.02264869e-01,  9.01585743e-02, -4.18174505e-01,\n",
       "        6.26964867e-03,  4.51199263e-01, -4.70097333e-01, -1.29103154e-01,\n",
       "        2.83647686e-01,  3.06839585e-01,  6.06254876e-01, -1.09480061e-01,\n",
       "        1.97226048e-01,  6.24791980e-01, -4.10982162e-01, -5.40531218e-01,\n",
       "       -6.03207462e-02,  2.08492458e-01, -1.77967250e-01, -1.88576400e-01,\n",
       "       -3.87725830e-01,  6.64198101e-02,  5.11901915e-01,  1.56504184e-01,\n",
       "        3.16056341e-01,  3.36563170e-01,  2.53970295e-01,  1.88633010e-01,\n",
       "        2.40347996e-01,  2.75027722e-01,  1.87714189e-01, -1.46079049e-01,\n",
       "       -4.43390518e-01,  9.37367789e-03, -3.68663460e-01, -2.73611575e-01,\n",
       "       -2.88900077e-01, -1.74684501e+00,  4.04477209e-01,  1.58240944e-01,\n",
       "       -2.30127051e-01, -3.44362527e-01,  1.43582508e-01,  5.22450805e-01,\n",
       "        1.06743622e+00,  1.58283845e-01,  5.64847738e-02,  2.42189899e-01,\n",
       "       -1.48190275e-01,  1.75019279e-01, -1.82580501e-01, -4.44437474e-01,\n",
       "       -4.69217114e-02,  1.11218989e+00,  4.68385845e-01, -2.19597012e-01,\n",
       "        7.33526945e-01,  5.23454189e-01, -3.78735662e-02,  2.82258600e-01,\n",
       "       -1.74048096e-01, -4.18405473e-01, -3.14695507e-01, -2.42752470e-02,\n",
       "        2.13383883e-01,  4.77999985e-01, -3.37818027e-01, -4.99053067e-03,\n",
       "       -9.18467522e-01, -6.63715079e-02, -2.83630061e+00,  1.76273033e-01,\n",
       "        5.63049376e-01, -3.43907028e-02, -4.08898480e-02,  5.83669245e-02,\n",
       "        1.21402524e-01,  3.15291971e-01,  1.74583569e-01, -4.47294980e-01,\n",
       "        1.91604704e-01,  1.19243227e-01, -5.60685515e-01,  3.07316691e-01,\n",
       "       -2.56380647e-01,  1.73648894e-01, -1.01903155e-02,  5.41540027e-01,\n",
       "        4.49999899e-01,  3.05362679e-02,  1.24372534e-01, -2.10376769e-01,\n",
       "       -3.84187788e-01,  2.62609661e-01,  1.76098451e-01,  3.89886618e-01,\n",
       "        2.49985486e-01,  2.47418452e-02, -5.94660580e-01, -2.90110767e-01,\n",
       "        5.08212149e-01, -1.92040607e-01,  3.26719970e-01,  3.23287621e-02,\n",
       "        5.27185977e-01,  6.39822006e-01,  1.34305272e-03, -2.19215397e-02,\n",
       "       -2.79278368e-01,  2.02112868e-01, -2.59800375e-01, -9.54352990e-02,\n",
       "        4.42532778e-01, -2.61836592e-03,  3.29931557e-01,  3.52574252e-02,\n",
       "       -6.24319389e-02,  3.03408355e-01, -3.56839597e-01, -4.25014019e-01,\n",
       "        3.10388923e-01,  3.93888265e-01,  7.10681796e-01,  4.52954948e-01,\n",
       "        4.56791013e-01, -1.35325074e-01, -1.13601707e-01,  1.24907754e-01,\n",
       "        2.72448868e-01,  3.86635691e-01,  6.09573007e-01,  4.67709392e-01,\n",
       "       -3.99971098e-01,  3.55122566e+00, -2.92800665e-01, -3.07525456e-01,\n",
       "        1.22311622e-01,  5.51520944e-01, -2.04013914e-01,  1.74165368e-01,\n",
       "        6.73455596e-02, -4.51337308e-01,  1.63014159e-01,  2.05800667e-01,\n",
       "        8.16372812e-01,  2.17694938e-01,  1.08294059e-02,  1.70409739e-01,\n",
       "       -1.92876920e-01, -1.33483291e-01, -1.74368098e-01,  4.44881350e-01,\n",
       "       -7.51658902e-02,  1.17655158e-01,  4.14616555e-01,  4.24834728e-01,\n",
       "        6.58792928e-02, -1.65709794e+00,  1.32905722e-01,  1.42963335e-01,\n",
       "       -2.03228295e-01,  2.28237405e-01, -1.88140869e-01, -4.52650711e-03,\n",
       "       -1.08598478e-01, -4.61821198e-01,  5.71374781e-02, -1.36230439e-02,\n",
       "        2.06823081e-01,  6.42565548e-01,  1.03589773e-01, -1.74883530e-01,\n",
       "       -1.96590543e-01, -7.63209118e-03,  3.65088463e-01, -4.86956909e-02,\n",
       "        1.80344403e-01, -3.84885967e-01,  1.36763722e-01,  8.81069973e-02,\n",
       "        2.00959221e-01, -6.59808740e-02, -2.73661554e-01, -1.64042860e-01,\n",
       "        3.90923113e-01,  4.16746020e-01,  1.04172125e-01, -2.23479345e-01,\n",
       "       -3.47962677e-01, -4.42325287e-02,  3.41724932e-01,  4.12343480e-02,\n",
       "       -3.73367369e-01, -6.92613661e-01, -2.32376963e-01, -6.38858020e-01,\n",
       "       -5.04509546e-02, -1.77921966e-01,  1.49278283e-01, -1.94768654e-03,\n",
       "       -2.93050677e-01, -2.78837228e+00,  2.26326231e-02,  4.97805566e-01,\n",
       "        2.18497977e-01,  3.84626538e-01, -1.65671363e-01,  3.46456729e-02,\n",
       "        1.37972981e-01,  1.21367581e-01, -4.85385358e-01,  3.14465284e-01,\n",
       "        3.39451641e-01, -1.06960565e-01,  4.56391335e-01, -5.90944111e-01,\n",
       "        8.16055313e-02, -1.14053197e-01, -3.15416336e-01, -1.03547461e-01,\n",
       "       -6.35295510e-01,  6.99358284e-02,  6.73643351e-01, -2.99485564e-01,\n",
       "        7.90332537e-03, -1.35292381e-01,  1.38077393e-01, -4.39195067e-01,\n",
       "       -1.27725732e-02,  1.70483887e-01,  3.50111037e-01,  1.35999441e-01,\n",
       "        1.01333074e-01,  2.41051316e-01, -1.25985250e-01,  1.36516362e-01,\n",
       "       -3.80232549e+00,  1.34415859e-02, -1.31963342e-01,  2.18061358e-01,\n",
       "        3.81383374e-02, -2.70575941e-01,  6.93756104e-01,  7.37767220e-02,\n",
       "       -7.68156290e-01,  3.07116807e-02, -3.11216891e-01,  4.29799519e-02,\n",
       "        2.34078709e-02,  8.47124934e-01,  2.87274778e-01,  5.44431090e-01,\n",
       "        3.31068814e-01, -3.09784221e-03,  4.51118320e-01,  1.64484099e-01,\n",
       "        8.56663659e-03, -1.13353752e-01, -1.33190274e-01, -9.67129618e-02,\n",
       "        3.39001536e-01,  9.91632789e-02, -3.10909241e-01,  2.84751318e-02,\n",
       "       -6.57987475e-01, -2.16957062e-01,  5.59403658e-01, -3.09155792e-01,\n",
       "       -7.50492886e-02, -2.85907835e-01, -6.10278964e-01, -4.88546014e-01,\n",
       "        3.42340589e-01,  3.69340539e-01,  3.06597859e-01, -1.94652542e-01,\n",
       "       -2.13703439e-01,  7.70200312e-01,  1.23483211e-01,  5.85574865e-01,\n",
       "        1.03747509e-01, -6.04561269e-01,  2.50637203e-01, -3.99373204e-01,\n",
       "        5.07886827e-01,  3.07400107e-01, -6.53953791e-01, -1.56420738e-01,\n",
       "        8.78258586e-01, -1.55309424e-01, -1.38047963e-01, -4.92544144e-01,\n",
       "        5.86198568e-01, -1.79777801e-01, -1.06746079e-02,  3.40469092e-01,\n",
       "        8.98904800e-01, -4.40880358e-01,  4.31709141e-01, -5.58199167e-01,\n",
       "        2.30938345e-01, -5.15254557e-01,  5.32860756e-01, -6.07835889e-01,\n",
       "       -4.37185854e-01,  8.43542721e-03, -1.21782526e-01,  5.93204975e-01,\n",
       "       -3.21844965e-01, -9.50810730e-01, -3.07910293e-01, -4.56366502e-02,\n",
       "       -5.13791263e-01, -3.56161594e-02,  2.04264715e-01,  1.57363310e-01,\n",
       "       -3.03271145e-01,  1.74960211e-01,  4.29994147e-03,  9.08612847e-01,\n",
       "       -5.53806186e-01, -2.27751257e-03, -9.90016609e-02, -5.20315394e-02,\n",
       "       -8.94772053e-01, -8.15469213e-03, -3.36388528e-01,  4.12591845e-01,\n",
       "        1.82785824e-01,  3.05217147e-01, -5.12679994e-01, -1.31362667e-02,\n",
       "        4.26466972e-01, -9.83938038e-01,  4.39580351e-01, -5.94128489e-01,\n",
       "       -1.79734617e-01, -3.51031989e-01,  3.75157088e-01, -6.37314469e-02,\n",
       "       -5.59569418e-01, -6.49452135e-02, -1.43427819e-01,  4.09074813e-01,\n",
       "        5.96407019e-02,  1.16599746e-01,  4.69375476e-02,  3.40789974e-01,\n",
       "       -5.22913039e-03, -9.35111493e-02,  9.15670335e-01, -1.77104339e-01,\n",
       "       -2.52513826e-01,  8.26054335e-01, -5.65955862e-02,  2.31527895e-01,\n",
       "        7.55652860e-02,  2.99097210e-01,  1.18294522e-01, -1.29708633e-01,\n",
       "        2.96717674e-01, -4.54458594e-02,  2.35820338e-01, -5.12237847e-01,\n",
       "       -3.05850267e-01, -4.43777025e-01, -5.15458167e-01,  1.51419029e-01,\n",
       "       -4.20946240e-01, -4.46443468e-01,  3.23098600e-01, -3.54768664e-01,\n",
       "       -5.70361555e-01,  3.87700438e-01,  4.94491249e-01, -2.75183097e-02,\n",
       "        6.47769094e-01, -1.38299763e-01, -3.71559471e-01,  2.44929060e-01,\n",
       "       -1.64495438e-01,  2.36223847e-01,  1.39054790e-01, -3.20477873e-01,\n",
       "       -1.40275925e-01,  4.73666787e-01,  2.99528301e-01, -3.36791366e-01,\n",
       "        3.51002991e-01, -4.24286604e-01, -1.60541534e-01, -2.32666582e-01,\n",
       "       -9.82584134e-02, -1.05392426e-01, -4.85945165e-01,  7.08058298e-01,\n",
       "       -1.88582882e-01, -1.30092263e-01, -1.50651956e+00,  5.52814007e-01,\n",
       "        7.19554186e-01,  5.67157902e-02,  4.32924964e-02, -5.03918111e-01,\n",
       "       -5.55244863e-01,  3.97936553e-02, -3.00055325e-01,  3.86603683e-01,\n",
       "       -4.88390565e-01, -1.88653439e-01, -2.85464048e-01, -1.80504546e-01,\n",
       "        1.41441345e-01,  3.54262032e-02,  6.30787671e-01, -1.95782408e-01,\n",
       "        4.19495255e-02,  8.05288553e-03, -6.68460503e-02,  6.87105179e-01,\n",
       "        6.11816421e-02, -9.43051185e-03,  6.38111904e-02, -9.03726462e-03,\n",
       "       -5.89392722e-01,  5.78488529e-01,  1.93875700e-01,  4.42107856e-01,\n",
       "       -9.43914503e-02, -7.53348991e-02, -6.78149462e-01, -3.36088203e-02,\n",
       "        3.85953575e-01,  2.16309354e-01,  1.69756003e-02, -3.43668073e-01,\n",
       "        5.03680587e-01,  6.75436795e-01, -1.56683609e-01,  4.33148712e-01,\n",
       "        4.38892812e-01, -2.79805213e-01,  2.06002712e-01,  1.78070366e-01,\n",
       "       -3.88783187e-01,  4.57919717e-01, -7.73447603e-02, -5.86746216e-01,\n",
       "       -3.87914777e-01, -1.18880812e-02, -4.28707749e-01, -3.64129692e-01,\n",
       "        1.10567495e-01, -1.78509876e-01, -3.25438470e-01, -5.47785945e-02,\n",
       "       -2.41990432e-01, -4.38191116e-01, -2.90968746e-01, -2.77722180e-01,\n",
       "       -3.78128439e-01,  1.87707499e-01, -5.53951859e-02, -5.67356169e-01,\n",
       "        7.29376003e-02, -1.23167045e-01, -5.98666489e-01,  5.82682908e-01,\n",
       "        3.29581678e-01, -1.33195966e-01, -5.57522655e-01,  1.13471255e-01,\n",
       "       -2.98376292e-01,  4.12363075e-02, -2.85156220e-01,  2.32044861e-01,\n",
       "        2.16159359e-01, -2.90215015e-01,  4.31856394e-01, -6.94437981e-01,\n",
       "       -3.36619407e-01,  5.37932694e-01,  3.32172960e-01, -1.46186218e-01,\n",
       "       -1.03352927e-01, -3.34240757e-02, -3.81207287e-01, -3.91000919e-02,\n",
       "       -8.67063522e-01, -7.44718432e-01,  5.27941465e-01,  1.93997294e-01,\n",
       "        2.54510641e-01,  3.77823412e-01, -7.92033523e-02,  2.84309447e-01,\n",
       "       -2.44542733e-01,  8.80919993e-02, -1.67238966e-01,  3.24071139e-01,\n",
       "        3.15641105e-01,  2.04870582e-01,  3.16118568e-01,  2.03468964e-01,\n",
       "        3.96068364e-01,  1.45430565e-01, -6.14530623e-01, -2.08499134e-01,\n",
       "       -1.51982635e-01, -7.91770294e-02, -3.03032845e-02, -1.64758712e-01,\n",
       "        7.55566061e-02, -3.00251573e-01,  2.11028472e-01, -2.30413601e-01,\n",
       "        1.86481512e+00,  5.22254586e-01,  1.98183045e-01,  2.49152794e-01,\n",
       "        3.20299476e-01,  2.05947936e-01, -3.99141729e-01,  1.47728726e-01,\n",
       "       -4.82752979e-01,  5.56705475e-01, -8.34518000e-02,  2.97510147e-01,\n",
       "       -3.14340860e-01,  4.96397167e-01,  7.36339867e-01,  2.71783322e-01,\n",
       "       -3.33936185e-01, -4.09367681e-01, -6.34816706e-01,  4.72129107e-01,\n",
       "       -5.65551400e-01,  4.56624538e-01,  2.09635407e-01, -1.41277850e-01,\n",
       "        1.03976987e-01,  3.83887589e-01, -7.98401423e-03, -4.83483016e-01,\n",
       "       -6.74752891e-02,  4.90144432e-01,  1.13334484e-01,  1.56701759e-01,\n",
       "        1.07084177e-01,  2.15734988e-01, -4.02939141e-01,  2.99245209e-01,\n",
       "       -3.33637476e-01, -7.79540062e-01, -4.92769480e-01, -1.61975417e-02,\n",
       "       -4.41184312e-01, -5.37530780e-01,  6.17034137e-01, -2.07901552e-01,\n",
       "       -1.09102882e-01,  7.96904385e-01, -1.93991244e-01, -2.49158308e-01,\n",
       "        8.34839493e-02,  1.86768994e-01,  8.85846466e-02,  3.46114755e-01,\n",
       "       -4.93917823e-01,  2.37324283e-01, -3.25584084e-01, -3.36169153e-01,\n",
       "       -1.46125570e-01,  3.92239541e-02,  2.77575135e-01,  3.88302982e-01,\n",
       "       -1.63753077e-01,  2.24687845e-01,  2.42336541e-01, -7.72616446e-01,\n",
       "       -6.94664568e-02,  2.38788977e-01, -5.50013781e-01,  2.24029422e-01,\n",
       "        1.16759166e-01, -2.32395917e-01, -6.26842156e-02,  4.19372529e-01,\n",
       "        5.32003224e-01,  5.92420995e-01,  2.44252816e-01,  1.54367730e-01,\n",
       "       -6.53106198e-02, -2.11084306e-01, -1.45634472e-01, -1.91942310e+00,\n",
       "        3.18230391e-01, -6.69667944e-02,  2.72908628e-01, -1.15290377e-02,\n",
       "       -2.97865532e-02,  5.27965166e-02,  3.73000085e-01, -1.56308189e-01,\n",
       "        4.47102822e-02,  1.67828515e-01,  5.84429264e-01,  1.99603271e-02,\n",
       "       -1.73048332e-01,  1.53661832e-01,  5.07670939e-01, -2.20530093e-01,\n",
       "        2.09906548e-01, -1.01565599e-01, -8.60096589e-02, -2.91883320e-01,\n",
       "       -1.95091933e-01, -2.02272370e-01, -2.18945831e-01, -5.01720548e-01,\n",
       "        3.68274927e-01,  1.66752756e-01, -2.41065368e-01,  3.41863781e-01,\n",
       "        3.49948943e-01, -1.81090176e-01,  5.19938111e-01, -1.21160492e-01,\n",
       "        9.42146406e-02, -2.74549127e-01, -2.14186057e-01, -1.73988029e-01,\n",
       "       -1.38403043e-01,  2.18216386e-02,  2.07735479e-01, -6.24547362e-01,\n",
       "        5.83377719e-01,  1.46304369e-01,  2.57376395e-02, -5.69702173e-03,\n",
       "        2.01230302e-01,  5.67471087e-01, -5.03808148e-02,  1.06656480e+00,\n",
       "       -3.87663454e-01, -4.93485719e-01, -4.15249132e-02, -2.46889234e-01,\n",
       "       -1.15694024e-01,  5.39534867e-01,  1.25415936e-01, -4.18294847e-01,\n",
       "       -3.22483361e-01, -1.35129914e-01, -8.11380744e-01, -3.51389140e-01,\n",
       "        1.23738877e-01, -7.19666407e-02, -4.99218255e-02,  1.39173150e-01,\n",
       "       -4.40342456e-01, -1.48204193e-01, -4.63948473e-02, -2.81728268e-01,\n",
       "        1.87289864e-01, -2.38449126e-01, -2.57469211e-02,  4.92515415e-01,\n",
       "        2.17432827e-01, -9.96110141e-02, -5.66663370e-02,  3.20973784e-01,\n",
       "        6.25366271e-01,  4.61275637e-01, -1.67551339e-01, -2.53459867e-02,\n",
       "       -5.76503873e-01, -1.53974280e-01,  2.90231794e-01,  6.17971063e-01,\n",
       "       -6.34177494e+00, -2.66066402e-01, -4.27415013e-01, -2.74706781e-01,\n",
       "        3.39334458e-01, -1.23678766e-01,  2.22086474e-01,  2.65806109e-01,\n",
       "        6.73501566e-02, -3.33805442e-01, -5.73407859e-03, -2.17795849e-01,\n",
       "       -7.90209919e-02, -6.79104209e-01,  2.31440842e-01,  9.83516634e-01])"
      ]
     },
     "execution_count": 28,
     "metadata": {},
     "output_type": "execute_result"
    }
   ],
   "source": []
  }
 ],
 "metadata": {
  "kernelspec": {
   "display_name": "amazonml",
   "language": "python",
   "name": "python3"
  },
  "language_info": {
   "codemirror_mode": {
    "name": "ipython",
    "version": 3
   },
   "file_extension": ".py",
   "mimetype": "text/x-python",
   "name": "python",
   "nbconvert_exporter": "python",
   "pygments_lexer": "ipython3",
   "version": "3.10.10"
  },
  "orig_nbformat": 4
 },
 "nbformat": 4,
 "nbformat_minor": 2
}
